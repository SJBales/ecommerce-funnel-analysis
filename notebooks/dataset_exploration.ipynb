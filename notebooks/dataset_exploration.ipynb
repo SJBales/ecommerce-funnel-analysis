{
 "cells": [
  {
   "cell_type": "code",
   "execution_count": 3,
   "id": "1957019e",
   "metadata": {},
   "outputs": [],
   "source": [
    "from google.cloud import bigquery\n",
    "import pandas as pd"
   ]
  },
  {
   "cell_type": "markdown",
   "id": "c6dc833f",
   "metadata": {},
   "source": [
    "#### Setting up the connection"
   ]
  },
  {
   "cell_type": "code",
   "execution_count": 4,
   "id": "940ed178",
   "metadata": {},
   "outputs": [],
   "source": [
    "client = bigquery.Client(project='product-analytics-portfolio')"
   ]
  },
  {
   "cell_type": "markdown",
   "id": "63c5167e",
   "metadata": {},
   "source": [
    "#### Exploratory Queries"
   ]
  },
  {
   "cell_type": "code",
   "execution_count": null,
   "id": "68dff1a0",
   "metadata": {},
   "outputs": [
    {
     "name": "stderr",
     "output_type": "stream",
     "text": [
      "/Users/samueljoseph/Documents/Programming/ecommerce-funnel-analysis/.venv/lib/python3.13/site-packages/google/cloud/bigquery/table.py:1994: UserWarning: BigQuery Storage module not found, fetch data with the REST endpoint instead.\n",
      "  warnings.warn(\n"
     ]
    },
    {
     "data": {
      "text/html": [
       "<div>\n",
       "<style scoped>\n",
       "    .dataframe tbody tr th:only-of-type {\n",
       "        vertical-align: middle;\n",
       "    }\n",
       "\n",
       "    .dataframe tbody tr th {\n",
       "        vertical-align: top;\n",
       "    }\n",
       "\n",
       "    .dataframe thead th {\n",
       "        text-align: right;\n",
       "    }\n",
       "</style>\n",
       "<table border=\"1\" class=\"dataframe\">\n",
       "  <thead>\n",
       "    <tr style=\"text-align: right;\">\n",
       "      <th></th>\n",
       "      <th>user_pseudo_id</th>\n",
       "      <th>event_timestamp</th>\n",
       "      <th>event_name</th>\n",
       "    </tr>\n",
       "  </thead>\n",
       "  <tbody>\n",
       "    <tr>\n",
       "      <th>0</th>\n",
       "      <td>1026454.4271112504</td>\n",
       "      <td>1612069510766593</td>\n",
       "      <td>page_view</td>\n",
       "    </tr>\n",
       "    <tr>\n",
       "      <th>1</th>\n",
       "      <td>1026454.4271112504</td>\n",
       "      <td>1612069510766593</td>\n",
       "      <td>session_start</td>\n",
       "    </tr>\n",
       "    <tr>\n",
       "      <th>2</th>\n",
       "      <td>1026454.4271112504</td>\n",
       "      <td>1612069510766593</td>\n",
       "      <td>first_visit</td>\n",
       "    </tr>\n",
       "    <tr>\n",
       "      <th>3</th>\n",
       "      <td>1026454.4271112504</td>\n",
       "      <td>1612069515781635</td>\n",
       "      <td>page_view</td>\n",
       "    </tr>\n",
       "    <tr>\n",
       "      <th>4</th>\n",
       "      <td>1026454.4271112504</td>\n",
       "      <td>1612069515781635</td>\n",
       "      <td>view_promotion</td>\n",
       "    </tr>\n",
       "    <tr>\n",
       "      <th>5</th>\n",
       "      <td>1026454.4271112504</td>\n",
       "      <td>1612069529243877</td>\n",
       "      <td>scroll</td>\n",
       "    </tr>\n",
       "    <tr>\n",
       "      <th>6</th>\n",
       "      <td>1026454.4271112504</td>\n",
       "      <td>1612069530073506</td>\n",
       "      <td>user_engagement</td>\n",
       "    </tr>\n",
       "  </tbody>\n",
       "</table>\n",
       "</div>"
      ],
      "text/plain": [
       "       user_pseudo_id   event_timestamp       event_name\n",
       "0  1026454.4271112504  1612069510766593        page_view\n",
       "1  1026454.4271112504  1612069510766593    session_start\n",
       "2  1026454.4271112504  1612069510766593      first_visit\n",
       "3  1026454.4271112504  1612069515781635        page_view\n",
       "4  1026454.4271112504  1612069515781635   view_promotion\n",
       "5  1026454.4271112504  1612069529243877           scroll\n",
       "6  1026454.4271112504  1612069530073506  user_engagement"
      ]
     },
     "execution_count": 6,
     "metadata": {},
     "output_type": "execute_result"
    }
   ],
   "source": [
    "# Looking at a user journey for a single user\n",
    "example_user_journey_sql = \"\"\"\n",
    "SELECT user_pseudo_id,\n",
    "       event_timestamp,\n",
    "       event_name\n",
    "FROM `bigquery-public-data.ga4_obfuscated_sample_ecommerce.events_20210131`\n",
    "WHERE user_pseudo_id = \"1026454.4271112504\"\n",
    "ORDER BY event_timestamp\n",
    "\"\"\"\n",
    "\n",
    "example_user_journey_query = client.query(example_user_journey_sql).to_dataframe()\n",
    "\n",
    "example_user_journey_query"
   ]
  },
  {
   "cell_type": "markdown",
   "id": "00d82bb0",
   "metadata": {},
   "source": [
    "Observations:\n",
    "- The first three events (page_view, session_start and first_visit) all have the same timestamp\n",
    "    - This should be tested with some exploratory queries to know for sure\n",
    "- Same finding for page_view and view_promotion\n",
    "- This user did not proceed to adding items to cart or checking out"
   ]
  },
  {
   "cell_type": "code",
   "execution_count": 7,
   "id": "d4492bf9",
   "metadata": {},
   "outputs": [
    {
     "name": "stderr",
     "output_type": "stream",
     "text": [
      "/Users/samueljoseph/Documents/Programming/ecommerce-funnel-analysis/.venv/lib/python3.13/site-packages/google/cloud/bigquery/table.py:1994: UserWarning: BigQuery Storage module not found, fetch data with the REST endpoint instead.\n",
      "  warnings.warn(\n"
     ]
    },
    {
     "data": {
      "text/html": [
       "<div>\n",
       "<style scoped>\n",
       "    .dataframe tbody tr th:only-of-type {\n",
       "        vertical-align: middle;\n",
       "    }\n",
       "\n",
       "    .dataframe tbody tr th {\n",
       "        vertical-align: top;\n",
       "    }\n",
       "\n",
       "    .dataframe thead th {\n",
       "        text-align: right;\n",
       "    }\n",
       "</style>\n",
       "<table border=\"1\" class=\"dataframe\">\n",
       "  <thead>\n",
       "    <tr style=\"text-align: right;\">\n",
       "      <th></th>\n",
       "      <th>event_name</th>\n",
       "    </tr>\n",
       "  </thead>\n",
       "  <tbody>\n",
       "    <tr>\n",
       "      <th>0</th>\n",
       "      <td>page_view</td>\n",
       "    </tr>\n",
       "    <tr>\n",
       "      <th>1</th>\n",
       "      <td>scroll</td>\n",
       "    </tr>\n",
       "    <tr>\n",
       "      <th>2</th>\n",
       "      <td>user_engagement</td>\n",
       "    </tr>\n",
       "    <tr>\n",
       "      <th>3</th>\n",
       "      <td>session_start</td>\n",
       "    </tr>\n",
       "    <tr>\n",
       "      <th>4</th>\n",
       "      <td>first_visit</td>\n",
       "    </tr>\n",
       "    <tr>\n",
       "      <th>5</th>\n",
       "      <td>view_promotion</td>\n",
       "    </tr>\n",
       "    <tr>\n",
       "      <th>6</th>\n",
       "      <td>view_item</td>\n",
       "    </tr>\n",
       "    <tr>\n",
       "      <th>7</th>\n",
       "      <td>view_search_results</td>\n",
       "    </tr>\n",
       "    <tr>\n",
       "      <th>8</th>\n",
       "      <td>add_payment_info</td>\n",
       "    </tr>\n",
       "    <tr>\n",
       "      <th>9</th>\n",
       "      <td>add_shipping_info</td>\n",
       "    </tr>\n",
       "    <tr>\n",
       "      <th>10</th>\n",
       "      <td>click</td>\n",
       "    </tr>\n",
       "    <tr>\n",
       "      <th>11</th>\n",
       "      <td>select_promotion</td>\n",
       "    </tr>\n",
       "    <tr>\n",
       "      <th>12</th>\n",
       "      <td>add_to_cart</td>\n",
       "    </tr>\n",
       "    <tr>\n",
       "      <th>13</th>\n",
       "      <td>select_item</td>\n",
       "    </tr>\n",
       "    <tr>\n",
       "      <th>14</th>\n",
       "      <td>begin_checkout</td>\n",
       "    </tr>\n",
       "    <tr>\n",
       "      <th>15</th>\n",
       "      <td>purchase</td>\n",
       "    </tr>\n",
       "  </tbody>\n",
       "</table>\n",
       "</div>"
      ],
      "text/plain": [
       "             event_name\n",
       "0             page_view\n",
       "1                scroll\n",
       "2       user_engagement\n",
       "3         session_start\n",
       "4           first_visit\n",
       "5        view_promotion\n",
       "6             view_item\n",
       "7   view_search_results\n",
       "8      add_payment_info\n",
       "9     add_shipping_info\n",
       "10                click\n",
       "11     select_promotion\n",
       "12          add_to_cart\n",
       "13          select_item\n",
       "14       begin_checkout\n",
       "15             purchase"
      ]
     },
     "execution_count": 7,
     "metadata": {},
     "output_type": "execute_result"
    }
   ],
   "source": [
    "# Looking at the unique event names\n",
    "event_names_sql = \"\"\"\n",
    "SELECT DISTINCT event_name\n",
    "FROM `bigquery-public-data.ga4_obfuscated_sample_ecommerce.events_20210131`\n",
    "\"\"\"\n",
    "\n",
    "event_names_query = client.query(event_names_sql).to_dataframe()\n",
    "event_names_query"
   ]
  },
  {
   "cell_type": "markdown",
   "id": "6ccbe76b",
   "metadata": {},
   "source": [
    "Observations:\n",
    "- There are many steps that are likely irrelevant: scroll, click, user_engagement, etc.\n",
    "- Major steps for the funnel analysis are: page_view, add_to_cart, begin_checkout and purchase"
   ]
  },
  {
   "cell_type": "markdown",
   "id": "5d8c1778",
   "metadata": {},
   "source": []
  }
 ],
 "metadata": {
  "kernelspec": {
   "display_name": ".venv (3.13.7)",
   "language": "python",
   "name": "python3"
  },
  "language_info": {
   "codemirror_mode": {
    "name": "ipython",
    "version": 3
   },
   "file_extension": ".py",
   "mimetype": "text/x-python",
   "name": "python",
   "nbconvert_exporter": "python",
   "pygments_lexer": "ipython3",
   "version": "3.13.7"
  }
 },
 "nbformat": 4,
 "nbformat_minor": 5
}
