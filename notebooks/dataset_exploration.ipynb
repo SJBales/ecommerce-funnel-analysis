{
 "cells": [
  {
   "cell_type": "markdown",
   "id": "6ccbe76b",
   "metadata": {},
   "source": [
    "Observations:\n",
    "- There are many steps that are likely irrelevant: scroll, click, user_engagement, etc.\n",
    "- Major steps for the funnel analysis are: page_view, add_to_cart, begin_checkout and purchase\n",
    "- Device cateogry, device operating system, device brand and operating system will be useful for segmentation\n",
    "- Columns also exist for country and language, both good for segmentation\n",
    "- ecommerce seems to be completely blank\n",
    "- Items has sparse information, needs further exploration"
   ]
  },
  {
   "cell_type": "code",
   "execution_count": 1,
   "id": "1957019e",
   "metadata": {},
   "outputs": [],
   "source": [
    "from google.cloud import bigquery\n",
    "import pandas as pd"
   ]
  },
  {
   "cell_type": "markdown",
   "id": "c6dc833f",
   "metadata": {},
   "source": [
    "#### Setting up the connection"
   ]
  },
  {
   "cell_type": "code",
   "execution_count": 2,
   "id": "940ed178",
   "metadata": {},
   "outputs": [],
   "source": [
    "client = bigquery.Client(project='product-analytics-portfolio')"
   ]
  },
  {
   "cell_type": "markdown",
   "id": "63c5167e",
   "metadata": {},
   "source": [
    "#### Exploratory Queries"
   ]
  },
  {
   "cell_type": "code",
   "execution_count": null,
   "id": "68dff1a0",
   "metadata": {},
   "outputs": [],
   "source": [
    "# Looking at a user journey for a single user\n",
    "example_user_journey_sql = \"\"\"\n",
    "SELECT user_pseudo_id,\n",
    "       event_timestamp,\n",
    "       event_name\n",
    "FROM `bigquery-public-data.ga4_obfuscated_sample_ecommerce.events_20210131`\n",
    "WHERE user_pseudo_id = \"1026454.4271112504\"\n",
    "ORDER BY event_timestamp\n",
    "\"\"\"\n",
    "\n",
    "example_user_journey_query = client.query(example_user_journey_sql).to_dataframe()\n",
    "\n",
    "example_user_journey_query"
   ]
  },
  {
   "cell_type": "markdown",
   "id": "00d82bb0",
   "metadata": {},
   "source": [
    "Observations:\n",
    "- The first three events (page_view, session_start and first_visit) all have the same timestamp\n",
    "    - This should be tested with some exploratory queries to know for sure\n",
    "- Same finding for page_view and view_promotion\n",
    "- This user did not proceed to adding items to cart or checking out"
   ]
  },
  {
   "cell_type": "code",
   "execution_count": null,
   "id": "d4492bf9",
   "metadata": {},
   "outputs": [],
   "source": [
    "# Looking at the unique event names\n",
    "event_names_sql = \"\"\"\n",
    "SELECT DISTINCT event_name\n",
    "FROM `bigquery-public-data.ga4_obfuscated_sample_ecommerce.events_20210131`\n",
    "\"\"\"\n",
    "\n",
    "event_names_query = client.query(event_names_sql).to_dataframe()\n",
    "event_names_query"
   ]
  },
  {
   "cell_type": "code",
   "execution_count": null,
   "id": "5d8c1778",
   "metadata": {},
   "outputs": [],
   "source": [
    "# Looking at the unqiue device categories\n",
    "device_sql = \"\"\"\n",
    "SELECT DISTINCT device.category,\n",
    "       device.operating_system,\n",
    "       device.mobile_brand_name,\n",
    "       device.web_info.browser\n",
    "FROM `bigquery-public-data.ga4_obfuscated_sample_ecommerce.events_20210131` \n",
    "ORDER BY device.category\n",
    "LIMIT 1000\n",
    "\"\"\"\n",
    "\n",
    "device_query = client.query(device_sql).to_dataframe()\n",
    "device_query"
   ]
  },
  {
   "cell_type": "markdown",
   "id": "b0dbfdb4",
   "metadata": {},
   "source": [
    "#### Looking at the number of days of data"
   ]
  },
  {
   "cell_type": "code",
   "execution_count": 3,
   "id": "512dc268",
   "metadata": {},
   "outputs": [
    {
     "name": "stderr",
     "output_type": "stream",
     "text": [
      "/Users/samueljoseph/Documents/Programming/ecommerce-funnel-analysis/.venv/lib/python3.13/site-packages/google/cloud/bigquery/table.py:1994: UserWarning: BigQuery Storage module not found, fetch data with the REST endpoint instead.\n",
      "  warnings.warn(\n"
     ]
    }
   ],
   "source": [
    "table_sql = \"\"\"\n",
    "SELECT table_name \n",
    "FROM `bigquery-public-data.ga4_obfuscated_sample_ecommerce.INFORMATION_SCHEMA.TABLES`\n",
    "ORDER BY table_name\n",
    "\"\"\"\n",
    "tables = client.query(table_sql).to_dataframe()"
   ]
  },
  {
   "cell_type": "code",
   "execution_count": 22,
   "id": "42a04428",
   "metadata": {},
   "outputs": [
    {
     "data": {
      "text/plain": [
       "True"
      ]
     },
     "execution_count": 22,
     "metadata": {},
     "output_type": "execute_result"
    }
   ],
   "source": [
    "tables['dates'] = pd.to_datetime(tables['table_name'].apply(lambda x: x.replace(\"events_\", \"\")))\n",
    "\n",
    "((tables.dates.max() - tables.dates.min()).days + 1) == tables.shape[0]"
   ]
  },
  {
   "cell_type": "markdown",
   "id": "a4c611c8",
   "metadata": {},
   "source": [
    "#### Looking to see if users appear across days"
   ]
  },
  {
   "cell_type": "code",
   "execution_count": 27,
   "id": "f66d3967",
   "metadata": {},
   "outputs": [
    {
     "name": "stderr",
     "output_type": "stream",
     "text": [
      "/Users/samueljoseph/Documents/Programming/ecommerce-funnel-analysis/.venv/lib/python3.13/site-packages/google/cloud/bigquery/table.py:1994: UserWarning: BigQuery Storage module not found, fetch data with the REST endpoint instead.\n",
      "  warnings.warn(\n"
     ]
    }
   ],
   "source": [
    "cross_day_sql = \"\"\"SELECT count(user_pseudo_id) as total_users\n",
    "FROM `bigquery-public-data.ga4_obfuscated_sample_ecommerce.events_20210131`\n",
    "WHERE user_pseudo_id IN (SELECT DISTINCT user_pseudo_id\n",
    "                         FROM `bigquery-public-data.ga4_obfuscated_sample_ecommerce.events_20210130`)\"\"\"\n",
    "cross_day_query = client.query(cross_day_sql).to_dataframe()"
   ]
  },
  {
   "cell_type": "code",
   "execution_count": 28,
   "id": "03da8874",
   "metadata": {},
   "outputs": [
    {
     "name": "stdout",
     "output_type": "stream",
     "text": [
      "   total_users\n",
      "0         1394\n"
     ]
    }
   ],
   "source": [
    "print(cross_day_query)"
   ]
  }
 ],
 "metadata": {
  "kernelspec": {
   "display_name": ".venv (3.13.7)",
   "language": "python",
   "name": "python3"
  },
  "language_info": {
   "codemirror_mode": {
    "name": "ipython",
    "version": 3
   },
   "file_extension": ".py",
   "mimetype": "text/x-python",
   "name": "python",
   "nbconvert_exporter": "python",
   "pygments_lexer": "ipython3",
   "version": "3.13.7"
  }
 },
 "nbformat": 4,
 "nbformat_minor": 5
}
