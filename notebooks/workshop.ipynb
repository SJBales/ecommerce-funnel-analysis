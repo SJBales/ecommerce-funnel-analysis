{
 "cells": [
  {
   "cell_type": "code",
   "execution_count": 1,
   "id": "827735cc",
   "metadata": {},
   "outputs": [],
   "source": [
    "from google.cloud import bigquery\n",
    "import pandas as pd"
   ]
  },
  {
   "cell_type": "code",
   "execution_count": 2,
   "id": "80a68c9d",
   "metadata": {},
   "outputs": [],
   "source": [
    "client = bigquery.Client(project='product-analytics-portfolio')"
   ]
  },
  {
   "cell_type": "markdown",
   "id": "03e5701d",
   "metadata": {},
   "source": [
    "#### Prepping for the initial data pipeline"
   ]
  },
  {
   "cell_type": "code",
   "execution_count": null,
   "id": "fa91d422",
   "metadata": {},
   "outputs": [],
   "source": [
    "test_query = \"\"\"WITH stacked_table AS (SELECT event_date,\n",
    "       event_timestamp,\n",
    "       user_pseudo_id,\n",
    "       event_name\n",
    "FROM `bigquery-public-data.ga4_obfuscated_sample_ecommerce.events_20210130`\n",
    "WHERE event_name IN ('page_view', 'add_to_cart', 'begin_checkout', 'purchase')\n",
    "UNION ALL\n",
    "SELECT event_date,\n",
    "       event_timestamp,\n",
    "       user_pseudo_id,\n",
    "       event_name\n",
    "FROM `bigquery-public-data.ga4_obfuscated_sample_ecommerce.events_20210131`\n",
    "WHERE event_name IN ('page_view', 'add_to_cart', 'begin_checkout', 'purchase')),\n",
    "\n",
    "flagged_events AS (SELECT *,\n",
    "       CASE WHEN event_name = 'page_view' THEN 1 ELSE 0 END AS page_view,\n",
    "       CASE WHEN event_name = 'add_to_cart' THEN 1 ELSE 0 END AS add_to_cart,\n",
    "       CASE WHEN event_name = 'begin_checkout' THEN 1 ELSE 0 END as begin_checkout,\n",
    "       CASE WHEN event_name = 'purchase' THEN 1 ELSE 0 END as purchase\n",
    "FROM stacked_table)\n",
    "\n",
    "SELECT user_pseudo_id,\n",
    "       MIN(event_date) AS first_event_date,\n",
    "       MIN(event_timestamp) AS first_event_timestamp,\n",
    "       CASE WHEN SUM(page_view) > 0 THEN 1 ELSE 0 END viewed_page,\n",
    "       CASE WHEN SUM(add_to_cart) > 0 THEN 1 ELSE 0 END added_to_cart,\n",
    "       CASE WHEN SUM(begin_checkout) > 0 THEN 1 ELSE 0 END began_checkout,\n",
    "       CASE WHEN SUM(purchase) > 0 THEN 1 ELSE 0 END purchased\n",
    "FROM flagged_events\n",
    "GROUP BY user_pseudo_id;\"\"\"\n",
    "test_results = client.query(test_query).to_dataframe()"
   ]
  }
 ],
 "metadata": {
  "kernelspec": {
   "display_name": ".venv (3.13.7)",
   "language": "python",
   "name": "python3"
  },
  "language_info": {
   "codemirror_mode": {
    "name": "ipython",
    "version": 3
   },
   "file_extension": ".py",
   "mimetype": "text/x-python",
   "name": "python",
   "nbconvert_exporter": "python",
   "pygments_lexer": "ipython3",
   "version": "3.13.7"
  }
 },
 "nbformat": 4,
 "nbformat_minor": 5
}
