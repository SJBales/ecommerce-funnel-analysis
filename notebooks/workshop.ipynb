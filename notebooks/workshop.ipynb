{
 "cells": [
  {
   "cell_type": "code",
   "execution_count": 1,
   "id": "827735cc",
   "metadata": {},
   "outputs": [],
   "source": [
    "from google.cloud import bigquery\n",
    "import pandas as pd\n",
    "import seaborn as sns\n",
    "import matplotlib.pyplot as plt\n",
    "from sklearn.cluster import KMeans"
   ]
  },
  {
   "cell_type": "code",
   "execution_count": 2,
   "id": "80a68c9d",
   "metadata": {},
   "outputs": [],
   "source": [
    "client = bigquery.Client(project='product-analytics-portfolio')"
   ]
  },
  {
   "cell_type": "markdown",
   "id": "03e5701d",
   "metadata": {},
   "source": [
    "#### Prepping for the initial data pipeline"
   ]
  },
  {
   "cell_type": "markdown",
   "id": "6cd8b478",
   "metadata": {},
   "source": [
    "Writing a query to determine if a user EVER converted, regardless of date or session"
   ]
  },
  {
   "cell_type": "code",
   "execution_count": 3,
   "id": "fa91d422",
   "metadata": {},
   "outputs": [
    {
     "name": "stderr",
     "output_type": "stream",
     "text": [
      "/Users/samueljoseph/Documents/Programming/ecommerce-funnel-analysis/.venv/lib/python3.13/site-packages/google/cloud/bigquery/table.py:1994: UserWarning: BigQuery Storage module not found, fetch data with the REST endpoint instead.\n",
      "  warnings.warn(\n"
     ]
    }
   ],
   "source": [
    "event_query = \"\"\"WITH stacked_table AS (SELECT event_date,\n",
    "        event_timestamp,\n",
    "        user_pseudo_id,\n",
    "        event_name\n",
    "    FROM `bigquery-public-data.ga4_obfuscated_sample_ecommerce.events_20210130`\n",
    "    WHERE event_name IN ('page_view', 'add_to_cart',\n",
    "    'begin_checkout', 'purchase')\n",
    "UNION ALL\n",
    "    SELECT event_date,\n",
    "        event_timestamp,\n",
    "        user_pseudo_id,\n",
    "        event_name\n",
    "    FROM `bigquery-public-data.ga4_obfuscated_sample_ecommerce.events_20210131`\n",
    "    WHERE event_name IN ('page_view', 'add_to_cart',\n",
    "    'begin_checkout', 'purchase')\n",
    "UNION ALL\n",
    "    SELECT event_date,\n",
    "        event_timestamp,\n",
    "        user_pseudo_id,\n",
    "        event_name\n",
    "    FROM `bigquery-public-data.ga4_obfuscated_sample_ecommerce.events_20210129`\n",
    "    WHERE event_name IN ('page_view', 'add_to_cart',\n",
    "    'begin_checkout', 'purchase')),\n",
    "\n",
    "flagged_events AS (SELECT *,\n",
    "       CASE WHEN event_name = 'page_view' THEN 1 ELSE 0 END AS page_view,\n",
    "       CASE WHEN event_name = 'add_to_cart' THEN 1 ELSE 0 END AS add_to_cart,\n",
    "       CASE WHEN event_name = 'begin_checkout' THEN 1 ELSE 0 END as begin_checkout,\n",
    "       CASE WHEN event_name = 'purchase' THEN 1 ELSE 0 END as purchase\n",
    "FROM stacked_table)\n",
    "\n",
    "SELECT user_pseudo_id,\n",
    "       MIN(event_date) AS first_event_date,\n",
    "       MIN(event_timestamp) AS first_event_timestamp,\n",
    "       CASE WHEN SUM(page_view) > 0 THEN 1 ELSE 0 END viewed_page,\n",
    "       CASE WHEN SUM(add_to_cart) > 0 THEN 1 ELSE 0 END added_to_cart,\n",
    "       CASE WHEN SUM(begin_checkout) > 0 THEN 1 ELSE 0 END began_checkout,\n",
    "       CASE WHEN SUM(purchase) > 0 THEN 1 ELSE 0 END purchased\n",
    "FROM flagged_events\n",
    "GROUP BY user_pseudo_id;\"\"\"\n",
    "event_results = client.query(event_query).to_dataframe()"
   ]
  },
  {
   "cell_type": "code",
   "execution_count": null,
   "id": "39e29442",
   "metadata": {},
   "outputs": [],
   "source": [
    "long_events = event_results.copy().melt(id_vars = ['user_pseudo_id', 'first_event_date', 'first_event_timestamp'])\\\n",
    ".rename(columns = {'variable': 'event', 'value': 'occurence'})"
   ]
  },
  {
   "cell_type": "code",
   "execution_count": null,
   "id": "3d0b1b45",
   "metadata": {},
   "outputs": [],
   "source": [
    "sns.barplot(x = 'event',\n",
    "            y = 'occurence',\n",
    "            data = long_events[long_events['event'] != 'viewed_page'])\n",
    "plt.title('Event Conversion Rates')\n",
    "plt.ylabel('Conversion Rate')\n",
    "plt.xlabel('Event')\n",
    "plt.show()"
   ]
  },
  {
   "cell_type": "code",
   "execution_count": null,
   "id": "fd2a3573",
   "metadata": {},
   "outputs": [],
   "source": [
    "# Plotting true conversion rates (% over total)\n",
    "sns.relplot(data = long_events,\n",
    "            x = 'first_event_date',\n",
    "            y = 'occurence',\n",
    "            hue = 'event',\n",
    "            kind = 'line')\n",
    "plt.show()"
   ]
  },
  {
   "cell_type": "code",
   "execution_count": null,
   "id": "01a44bf8",
   "metadata": {},
   "outputs": [],
   "source": [
    "# Plotting total page views and conversion\n",
    "agg_long_events = long_events.loc[:, ['first_event_date', 'event', 'occurence']]\\\n",
    "    .groupby(['first_event_date', 'event']).sum().reset_index()\n",
    "\n",
    "# Setting the theme\n",
    "custom_params = {\"axes.spines.right\": False, \"axes.spines.top\": False}\n",
    "sns.set_theme(style=\"ticks\", rc=custom_params)\n",
    "\n",
    "sns.relplot(data = agg_long_events,\n",
    "            x = 'first_event_date',\n",
    "            y = 'occurence',\n",
    "            hue = 'event',\n",
    "            kind = 'line')\n",
    "plt.title('Total Conversion Events')\n",
    "plt.ylabel('Count')\n",
    "plt.xlabel('Event')\n",
    "plt.show()"
   ]
  },
  {
   "cell_type": "markdown",
   "id": "aba05447",
   "metadata": {},
   "source": [
    "Writing a query to determine intra-session conversion"
   ]
  },
  {
   "cell_type": "code",
   "execution_count": null,
   "id": "69b5b349",
   "metadata": {},
   "outputs": [],
   "source": [
    "session_sql = \"\"\"-- CTE to stack relevant columns from two date tables\n",
    "-- Needs to be compressed to query across all tables with a wildcard for production\n",
    "WITH stacked_table AS (SELECT DISTINCT user_pseudo_id,\n",
    "      event_date,\n",
    "      event_timestamp, \n",
    "      events.value.int_value AS session,\n",
    "      event_name\n",
    "FROM `bigquery-public-data.ga4_obfuscated_sample_ecommerce.events_20210130`,\n",
    "     UNNEST(event_params) AS events\n",
    "WHERE event_name IN ('page_view', 'add_to_cart', 'begin_checkout', 'purchase') AND\n",
    "      events.key = 'ga_session_id'\n",
    "UNION ALL\n",
    "SELECT DISTINCT user_pseudo_id,\n",
    "      event_date,\n",
    "      event_timestamp, \n",
    "      events.value.int_value AS session,\n",
    "      event_name\n",
    "FROM `bigquery-public-data.ga4_obfuscated_sample_ecommerce.events_20210130`,\n",
    "     UNNEST(event_params) AS events\n",
    "WHERE event_name IN ('page_view', 'add_to_cart', 'begin_checkout', 'purchase') AND\n",
    "      events.key = 'ga_session_id'),\n",
    "\n",
    "-- CTE to create flagged events by user and session\n",
    "flagged_events AS (SELECT *,\n",
    "       CASE WHEN event_name = 'page_view' THEN 1 ELSE 0 END AS page_view,\n",
    "       CASE WHEN event_name = 'add_to_cart' THEN 1 ELSE 0 END AS add_to_cart,\n",
    "       CASE WHEN event_name = 'begin_checkout' THEN 1 ELSE 0 END as begin_checkout,\n",
    "       CASE WHEN event_name = 'purchase' THEN 1 ELSE 0 END as purchase\n",
    "FROM stacked_table)\n",
    "\n",
    "-- Getting aggregated values by session and user\n",
    "SELECT user_pseudo_id,\n",
    "       session,\n",
    "       MIN(event_date) AS first_event_date,\n",
    "       MIN(event_timestamp) AS first_event_timestamp,\n",
    "       CASE WHEN SUM(page_view) > 0 THEN 1 ELSE 0 END viewed_page,\n",
    "       CASE WHEN SUM(add_to_cart) > 0 THEN 1 ELSE 0 END added_to_cart,\n",
    "       CASE WHEN SUM(begin_checkout) > 0 THEN 1 ELSE 0 END began_checkout,\n",
    "       CASE WHEN SUM(purchase) > 0 THEN 1 ELSE 0 END purchased\n",
    "FROM flagged_events\n",
    "GROUP BY user_pseudo_id, session;\"\"\"\n",
    "session_query = client.query(session_sql).to_dataframe()"
   ]
  },
  {
   "cell_type": "code",
   "execution_count": null,
   "id": "db261243",
   "metadata": {},
   "outputs": [],
   "source": [
    "long_session = session_query.melt(\n",
    "            id_vars=['user_pseudo_id',\n",
    "                     'session',\n",
    "                     'first_event_date',\n",
    "                     'first_event_timestamp'])\\\n",
    "            .rename(columns={'variable': 'event', 'value': 'occurence'})"
   ]
  },
  {
   "cell_type": "code",
   "execution_count": null,
   "id": "beed6b34",
   "metadata": {},
   "outputs": [],
   "source": [
    "sns.barplot(x = 'event',\n",
    "            y = 'occurence',\n",
    "            data = long_session)\n",
    "plt.show()"
   ]
  },
  {
   "cell_type": "markdown",
   "id": "c7978c07",
   "metadata": {},
   "source": [
    "#### Segmentation Queries"
   ]
  },
  {
   "cell_type": "markdown",
   "id": "b98fb9c1",
   "metadata": {},
   "source": [
    "Query for device information"
   ]
  },
  {
   "cell_type": "code",
   "execution_count": 5,
   "id": "17185ab5",
   "metadata": {},
   "outputs": [],
   "source": [
    "device_sql = \"\"\"SELECT DISTINCT user_pseudo_id,\n",
    "        events.value.int_value AS session,\n",
    "        device.category,\n",
    "        device.mobile_brand_name,\n",
    "        device.operating_system\n",
    "    FROM `bigquery-public-data.ga4_obfuscated_sample_ecommerce.events_20210129`,\n",
    "        UNNEST(event_params) AS events\n",
    "    WHERE events.key = 'ga_session_id'\n",
    "    UNION ALL\n",
    "    SELECT DISTINCT user_pseudo_id,\n",
    "        events.value.int_value AS session,\n",
    "        device.category,\n",
    "        device.mobile_brand_name,\n",
    "        device.operating_system\n",
    "    FROM `bigquery-public-data.ga4_obfuscated_sample_ecommerce.events_20210130`,\n",
    "        UNNEST(event_params) AS events\n",
    "    WHERE events.key = 'ga_session_id'\n",
    "    UNION ALL\n",
    "    SELECT DISTINCT user_pseudo_id,\n",
    "        events.value.int_value AS session,\n",
    "        device.category,\n",
    "        device.mobile_brand_name,\n",
    "        device.operating_system\n",
    "    FROM `bigquery-public-data.ga4_obfuscated_sample_ecommerce.events_20210131`,\n",
    "        UNNEST(event_params) AS events\n",
    "    WHERE events.key = 'ga_session_id'\"\"\""
   ]
  },
  {
   "cell_type": "code",
   "execution_count": 6,
   "id": "84dabfb4",
   "metadata": {},
   "outputs": [],
   "source": [
    "geo_sql = \"\"\"SELECT DISTINCT user_pseudo_id,\n",
    "        events.value.int_value AS session,\n",
    "        geo.continent,\n",
    "        geo.country,\n",
    "        geo.region,\n",
    "        geo.city\n",
    "    FROM `bigquery-public-data.ga4_obfuscated_sample_ecommerce.events_20210129`,\n",
    "        UNNEST(event_params) AS events\n",
    "    WHERE events.key = 'ga_session_id'\n",
    "    UNION ALL\n",
    "    SELECT DISTINCT user_pseudo_id,\n",
    "        events.value.int_value AS session,\n",
    "        geo.continent,\n",
    "        geo.country,\n",
    "        geo.region,\n",
    "        geo.city\n",
    "    FROM `bigquery-public-data.ga4_obfuscated_sample_ecommerce.events_20210130`,\n",
    "        UNNEST(event_params) AS events\n",
    "    WHERE events.key = 'ga_session_id'\n",
    "    UNION ALL\n",
    "    SELECT DISTINCT user_pseudo_id,\n",
    "        events.value.int_value AS session,\n",
    "        geo.continent,\n",
    "        geo.country,\n",
    "        geo.region,\n",
    "        geo.city\n",
    "    FROM `bigquery-public-data.ga4_obfuscated_sample_ecommerce.events_20210131`,\n",
    "        UNNEST(event_params) AS events\n",
    "    WHERE events.key = 'ga_session_id'\"\"\""
   ]
  },
  {
   "cell_type": "code",
   "execution_count": 7,
   "id": "91d402d9",
   "metadata": {},
   "outputs": [],
   "source": [
    "device_query = client.query(device_sql).to_dataframe()\n",
    "geo_query = client.query(geo_sql).to_dataframe()"
   ]
  },
  {
   "cell_type": "markdown",
   "id": "d8b75936",
   "metadata": {},
   "source": [
    "#### Code to workshop clustering"
   ]
  },
  {
   "cell_type": "code",
   "execution_count": 8,
   "id": "911ee1d2",
   "metadata": {},
   "outputs": [],
   "source": [
    "clustering_df = event_results.loc[:, ['user_pseudo_id', 'first_event_date']]\\\n",
    "    .merge(geo_query.loc[:, ['user_pseudo_id', 'continent', 'country', 'region']],\n",
    "           how='left',\n",
    "           on='user_pseudo_id')\n",
    "\n",
    "clustering_df['first_event_date'] = pd.to_datetime(clustering_df['first_event_date'])\n",
    "\n",
    "# Remapping countries to turn into numeric columns\n",
    "country_counts = clustering_df['country'].value_counts()\n",
    "clustering_df['country_map'] = clustering_df['country'].apply(lambda x: x if country_counts[x] > 20 else 'Other')\n",
    "\n",
    "region_counts = clustering_df['region'].value_counts()\n",
    "clustering_df['region_map'] = clustering_df['region'].apply(lambda x: x if region_counts[x] > 20 else 'Other')\n",
    "clust_df = clustering_df.set_index('user_pseudo_id').loc[:, ['first_event_date', 'country_map', 'region_map']]"
   ]
  },
  {
   "cell_type": "code",
   "execution_count": 9,
   "id": "a4057d64",
   "metadata": {},
   "outputs": [],
   "source": [
    "prepped_cluster_df = pd.get_dummies(clust_df, columns = ['country_map', 'region_map', 'first_event_date'], dtype=int)"
   ]
  },
  {
   "cell_type": "code",
   "execution_count": null,
   "id": "976fbc80",
   "metadata": {},
   "outputs": [],
   "source": [
    "inertias = []\n",
    "\n",
    "for i in range(2, 20):\n",
    " k_means = KMeans(n_clusters=i)\n",
    " k_means.fit(prepped_cluster_df)\n",
    " inertias.append(k_means.inertia_)"
   ]
  },
  {
   "cell_type": "code",
   "execution_count": null,
   "id": "84433f83",
   "metadata": {},
   "outputs": [],
   "source": [
    "plt.plot([i for i in range(2, 20)],\n",
    "         inertias)\n",
    "plt.show()"
   ]
  },
  {
   "cell_type": "markdown",
   "id": "d003f138",
   "metadata": {},
   "source": [
    "You have to squint, but 10 clusters is approximately an elbow"
   ]
  },
  {
   "cell_type": "code",
   "execution_count": 25,
   "id": "04263887",
   "metadata": {},
   "outputs": [],
   "source": [
    "clust_df['kmeans_cluster'] = KMeans(n_clusters=5).fit_predict(prepped_cluster_df)"
   ]
  },
  {
   "cell_type": "code",
   "execution_count": 45,
   "id": "693df2c4",
   "metadata": {},
   "outputs": [],
   "source": [
    "explainer_df = clust_df.copy().reset_index().drop(columns='user_pseudo_id')\\\n",
    "    .groupby(['kmeans_cluster', \n",
    "              'first_event_date', \n",
    "              'country_map', \n",
    "              'region_map']).value_counts().reset_index()\n",
    "\n",
    "cluster_counts = clust_df['kmeans_cluster'].value_counts()\n",
    "\n",
    "explainer_df['cluster_counts'] = explainer_df['kmeans_cluster'].map(cluster_counts)"
   ]
  },
  {
   "cell_type": "code",
   "execution_count": 47,
   "id": "b6f394e5",
   "metadata": {},
   "outputs": [],
   "source": [
    "explainer_df['fraction'] = explainer_df['count'] / explainer_df['cluster_counts']"
   ]
  },
  {
   "cell_type": "code",
   "execution_count": 48,
   "id": "2bf5a733",
   "metadata": {},
   "outputs": [
    {
     "data": {
      "text/html": [
       "<div>\n",
       "<style scoped>\n",
       "    .dataframe tbody tr th:only-of-type {\n",
       "        vertical-align: middle;\n",
       "    }\n",
       "\n",
       "    .dataframe tbody tr th {\n",
       "        vertical-align: top;\n",
       "    }\n",
       "\n",
       "    .dataframe thead th {\n",
       "        text-align: right;\n",
       "    }\n",
       "</style>\n",
       "<table border=\"1\" class=\"dataframe\">\n",
       "  <thead>\n",
       "    <tr style=\"text-align: right;\">\n",
       "      <th></th>\n",
       "      <th>kmeans_cluster</th>\n",
       "      <th>first_event_date</th>\n",
       "      <th>country_map</th>\n",
       "      <th>region_map</th>\n",
       "      <th>count</th>\n",
       "      <th>cluster_counts</th>\n",
       "      <th>fraction</th>\n",
       "    </tr>\n",
       "  </thead>\n",
       "  <tbody>\n",
       "    <tr>\n",
       "      <th>0</th>\n",
       "      <td>0</td>\n",
       "      <td>2021-01-29</td>\n",
       "      <td>Canada</td>\n",
       "      <td>Alberta</td>\n",
       "      <td>43</td>\n",
       "      <td>284</td>\n",
       "      <td>0.151408</td>\n",
       "    </tr>\n",
       "    <tr>\n",
       "      <th>1</th>\n",
       "      <td>0</td>\n",
       "      <td>2021-01-29</td>\n",
       "      <td>Canada</td>\n",
       "      <td>British Columbia</td>\n",
       "      <td>48</td>\n",
       "      <td>284</td>\n",
       "      <td>0.169014</td>\n",
       "    </tr>\n",
       "    <tr>\n",
       "      <th>2</th>\n",
       "      <td>0</td>\n",
       "      <td>2021-01-29</td>\n",
       "      <td>Canada</td>\n",
       "      <td>Ontario</td>\n",
       "      <td>88</td>\n",
       "      <td>284</td>\n",
       "      <td>0.309859</td>\n",
       "    </tr>\n",
       "    <tr>\n",
       "      <th>3</th>\n",
       "      <td>0</td>\n",
       "      <td>2021-01-29</td>\n",
       "      <td>Canada</td>\n",
       "      <td>Other</td>\n",
       "      <td>33</td>\n",
       "      <td>284</td>\n",
       "      <td>0.116197</td>\n",
       "    </tr>\n",
       "    <tr>\n",
       "      <th>4</th>\n",
       "      <td>0</td>\n",
       "      <td>2021-01-29</td>\n",
       "      <td>Canada</td>\n",
       "      <td>Quebec</td>\n",
       "      <td>72</td>\n",
       "      <td>284</td>\n",
       "      <td>0.253521</td>\n",
       "    </tr>\n",
       "    <tr>\n",
       "      <th>...</th>\n",
       "      <td>...</td>\n",
       "      <td>...</td>\n",
       "      <td>...</td>\n",
       "      <td>...</td>\n",
       "      <td>...</td>\n",
       "      <td>...</td>\n",
       "      <td>...</td>\n",
       "    </tr>\n",
       "    <tr>\n",
       "      <th>488</th>\n",
       "      <td>4</td>\n",
       "      <td>2021-01-29</td>\n",
       "      <td>United Kingdom</td>\n",
       "      <td>(not set)</td>\n",
       "      <td>2</td>\n",
       "      <td>1971</td>\n",
       "      <td>0.001015</td>\n",
       "    </tr>\n",
       "    <tr>\n",
       "      <th>489</th>\n",
       "      <td>4</td>\n",
       "      <td>2021-01-29</td>\n",
       "      <td>United Kingdom</td>\n",
       "      <td>England</td>\n",
       "      <td>114</td>\n",
       "      <td>1971</td>\n",
       "      <td>0.057839</td>\n",
       "    </tr>\n",
       "    <tr>\n",
       "      <th>490</th>\n",
       "      <td>4</td>\n",
       "      <td>2021-01-29</td>\n",
       "      <td>United Kingdom</td>\n",
       "      <td>Other</td>\n",
       "      <td>5</td>\n",
       "      <td>1971</td>\n",
       "      <td>0.002537</td>\n",
       "    </tr>\n",
       "    <tr>\n",
       "      <th>491</th>\n",
       "      <td>4</td>\n",
       "      <td>2021-01-29</td>\n",
       "      <td>Vietnam</td>\n",
       "      <td>(not set)</td>\n",
       "      <td>5</td>\n",
       "      <td>1971</td>\n",
       "      <td>0.002537</td>\n",
       "    </tr>\n",
       "    <tr>\n",
       "      <th>492</th>\n",
       "      <td>4</td>\n",
       "      <td>2021-01-29</td>\n",
       "      <td>Vietnam</td>\n",
       "      <td>Other</td>\n",
       "      <td>11</td>\n",
       "      <td>1971</td>\n",
       "      <td>0.005581</td>\n",
       "    </tr>\n",
       "  </tbody>\n",
       "</table>\n",
       "<p>493 rows × 7 columns</p>\n",
       "</div>"
      ],
      "text/plain": [
       "     kmeans_cluster first_event_date     country_map        region_map  count  \\\n",
       "0                 0       2021-01-29          Canada           Alberta     43   \n",
       "1                 0       2021-01-29          Canada  British Columbia     48   \n",
       "2                 0       2021-01-29          Canada           Ontario     88   \n",
       "3                 0       2021-01-29          Canada             Other     33   \n",
       "4                 0       2021-01-29          Canada            Quebec     72   \n",
       "..              ...              ...             ...               ...    ...   \n",
       "488               4       2021-01-29  United Kingdom         (not set)      2   \n",
       "489               4       2021-01-29  United Kingdom           England    114   \n",
       "490               4       2021-01-29  United Kingdom             Other      5   \n",
       "491               4       2021-01-29         Vietnam         (not set)      5   \n",
       "492               4       2021-01-29         Vietnam             Other     11   \n",
       "\n",
       "     cluster_counts  fraction  \n",
       "0               284  0.151408  \n",
       "1               284  0.169014  \n",
       "2               284  0.309859  \n",
       "3               284  0.116197  \n",
       "4               284  0.253521  \n",
       "..              ...       ...  \n",
       "488            1971  0.001015  \n",
       "489            1971  0.057839  \n",
       "490            1971  0.002537  \n",
       "491            1971  0.002537  \n",
       "492            1971  0.005581  \n",
       "\n",
       "[493 rows x 7 columns]"
      ]
     },
     "execution_count": 48,
     "metadata": {},
     "output_type": "execute_result"
    }
   ],
   "source": [
    "explainer_df"
   ]
  },
  {
   "cell_type": "code",
   "execution_count": null,
   "id": "c700d38d",
   "metadata": {},
   "outputs": [],
   "source": []
  }
 ],
 "metadata": {
  "kernelspec": {
   "display_name": ".venv (3.13.7)",
   "language": "python",
   "name": "python3"
  },
  "language_info": {
   "codemirror_mode": {
    "name": "ipython",
    "version": 3
   },
   "file_extension": ".py",
   "mimetype": "text/x-python",
   "name": "python",
   "nbconvert_exporter": "python",
   "pygments_lexer": "ipython3",
   "version": "3.13.7"
  }
 },
 "nbformat": 4,
 "nbformat_minor": 5
}
