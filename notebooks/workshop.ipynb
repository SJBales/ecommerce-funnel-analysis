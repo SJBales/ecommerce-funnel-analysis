{
 "cells": [
  {
   "cell_type": "code",
   "execution_count": null,
   "id": "827735cc",
   "metadata": {},
   "outputs": [],
   "source": [
    "from google.cloud import bigquery\n",
    "import pandas as pd\n",
    "import seaborn as sns\n",
    "import matplotlib.pyplot as plt\n",
    "from sklearn.cluster import KMeans"
   ]
  },
  {
   "cell_type": "code",
   "execution_count": null,
   "id": "80a68c9d",
   "metadata": {},
   "outputs": [],
   "source": [
    "client = bigquery.Client(project='product-analytics-portfolio')"
   ]
  },
  {
   "cell_type": "markdown",
   "id": "03e5701d",
   "metadata": {},
   "source": [
    "#### Prepping for the initial data pipeline"
   ]
  },
  {
   "cell_type": "markdown",
   "id": "6cd8b478",
   "metadata": {},
   "source": [
    "Writing a query to determine if a user EVER converted, regardless of date or session"
   ]
  },
  {
   "cell_type": "code",
   "execution_count": null,
   "id": "fa91d422",
   "metadata": {},
   "outputs": [],
   "source": [
    "event_query = \"\"\"WITH stacked_table AS (SELECT event_date,\n",
    "        event_timestamp,\n",
    "        user_pseudo_id,\n",
    "        event_name\n",
    "    FROM `bigquery-public-data.ga4_obfuscated_sample_ecommerce.events_20210130`\n",
    "    WHERE event_name IN ('page_view', 'add_to_cart',\n",
    "    'begin_checkout', 'purchase')\n",
    "UNION ALL\n",
    "    SELECT event_date,\n",
    "        event_timestamp,\n",
    "        user_pseudo_id,\n",
    "        event_name\n",
    "    FROM `bigquery-public-data.ga4_obfuscated_sample_ecommerce.events_20210131`\n",
    "    WHERE event_name IN ('page_view', 'add_to_cart',\n",
    "    'begin_checkout', 'purchase')\n",
    "UNION ALL\n",
    "    SELECT event_date,\n",
    "        event_timestamp,\n",
    "        user_pseudo_id,\n",
    "        event_name\n",
    "    FROM `bigquery-public-data.ga4_obfuscated_sample_ecommerce.events_20210129`\n",
    "    WHERE event_name IN ('page_view', 'add_to_cart',\n",
    "    'begin_checkout', 'purchase')),\n",
    "\n",
    "flagged_events AS (SELECT *,\n",
    "       CASE WHEN event_name = 'page_view' THEN 1 ELSE 0 END AS page_view,\n",
    "       CASE WHEN event_name = 'add_to_cart' THEN 1 ELSE 0 END AS add_to_cart,\n",
    "       CASE WHEN event_name = 'begin_checkout' THEN 1 ELSE 0 END as begin_checkout,\n",
    "       CASE WHEN event_name = 'purchase' THEN 1 ELSE 0 END as purchase\n",
    "FROM stacked_table)\n",
    "\n",
    "SELECT user_pseudo_id,\n",
    "       MIN(event_date) AS first_event_date,\n",
    "       MIN(event_timestamp) AS first_event_timestamp,\n",
    "       CASE WHEN SUM(page_view) > 0 THEN 1 ELSE 0 END viewed_page,\n",
    "       CASE WHEN SUM(add_to_cart) > 0 THEN 1 ELSE 0 END added_to_cart,\n",
    "       CASE WHEN SUM(begin_checkout) > 0 THEN 1 ELSE 0 END began_checkout,\n",
    "       CASE WHEN SUM(purchase) > 0 THEN 1 ELSE 0 END purchased\n",
    "FROM flagged_events\n",
    "GROUP BY user_pseudo_id;\"\"\"\n",
    "event_results = client.query(event_query).to_dataframe()"
   ]
  },
  {
   "cell_type": "code",
   "execution_count": null,
   "id": "39e29442",
   "metadata": {},
   "outputs": [],
   "source": [
    "long_events = event_results.copy().melt(id_vars = ['user_pseudo_id', 'first_event_date', 'first_event_timestamp'])\\\n",
    ".rename(columns = {'variable': 'event', 'value': 'occurence'})"
   ]
  },
  {
   "cell_type": "code",
   "execution_count": null,
   "id": "3d0b1b45",
   "metadata": {},
   "outputs": [],
   "source": [
    "sns.barplot(x = 'event',\n",
    "            y = 'occurence',\n",
    "            data = long_events[long_events['event'] != 'viewed_page'])\n",
    "plt.title('Event Conversion Rates')\n",
    "plt.ylabel('Conversion Rate')\n",
    "plt.xlabel('Event')\n",
    "plt.show()"
   ]
  },
  {
   "cell_type": "code",
   "execution_count": null,
   "id": "fd2a3573",
   "metadata": {},
   "outputs": [],
   "source": [
    "# Plotting true conversion rates (% over total)\n",
    "sns.relplot(data = long_events,\n",
    "            x = 'first_event_date',\n",
    "            y = 'occurence',\n",
    "            hue = 'event',\n",
    "            kind = 'line')\n",
    "plt.show()"
   ]
  },
  {
   "cell_type": "code",
   "execution_count": null,
   "id": "01a44bf8",
   "metadata": {},
   "outputs": [],
   "source": [
    "# Plotting total page views and conversion\n",
    "agg_long_events = long_events.loc[:, ['first_event_date', 'event', 'occurence']]\\\n",
    "    .groupby(['first_event_date', 'event']).sum().reset_index()\n",
    "\n",
    "# Setting the theme\n",
    "custom_params = {\"axes.spines.right\": False, \"axes.spines.top\": False}\n",
    "sns.set_theme(style=\"ticks\", rc=custom_params)\n",
    "\n",
    "sns.relplot(data = agg_long_events,\n",
    "            x = 'first_event_date',\n",
    "            y = 'occurence',\n",
    "            hue = 'event',\n",
    "            kind = 'line')\n",
    "plt.title('Total Conversion Events')\n",
    "plt.ylabel('Count')\n",
    "plt.xlabel('Event')\n",
    "plt.show()"
   ]
  },
  {
   "cell_type": "markdown",
   "id": "aba05447",
   "metadata": {},
   "source": [
    "Writing a query to determine intra-session conversion"
   ]
  },
  {
   "cell_type": "code",
   "execution_count": null,
   "id": "69b5b349",
   "metadata": {},
   "outputs": [],
   "source": [
    "session_sql = \"\"\"-- CTE to stack relevant columns from two date tables\n",
    "-- Needs to be compressed to query across all tables with a wildcard for production\n",
    "WITH stacked_table AS (SELECT DISTINCT user_pseudo_id,\n",
    "      event_date,\n",
    "      event_timestamp, \n",
    "      events.value.int_value AS session,\n",
    "      event_name\n",
    "FROM `bigquery-public-data.ga4_obfuscated_sample_ecommerce.events_20210130`,\n",
    "     UNNEST(event_params) AS events\n",
    "WHERE event_name IN ('page_view', 'add_to_cart', 'begin_checkout', 'purchase') AND\n",
    "      events.key = 'ga_session_id'\n",
    "UNION ALL\n",
    "SELECT DISTINCT user_pseudo_id,\n",
    "      event_date,\n",
    "      event_timestamp, \n",
    "      events.value.int_value AS session,\n",
    "      event_name\n",
    "FROM `bigquery-public-data.ga4_obfuscated_sample_ecommerce.events_20210130`,\n",
    "     UNNEST(event_params) AS events\n",
    "WHERE event_name IN ('page_view', 'add_to_cart', 'begin_checkout', 'purchase') AND\n",
    "      events.key = 'ga_session_id'),\n",
    "\n",
    "-- CTE to create flagged events by user and session\n",
    "flagged_events AS (SELECT *,\n",
    "       CASE WHEN event_name = 'page_view' THEN 1 ELSE 0 END AS page_view,\n",
    "       CASE WHEN event_name = 'add_to_cart' THEN 1 ELSE 0 END AS add_to_cart,\n",
    "       CASE WHEN event_name = 'begin_checkout' THEN 1 ELSE 0 END as begin_checkout,\n",
    "       CASE WHEN event_name = 'purchase' THEN 1 ELSE 0 END as purchase\n",
    "FROM stacked_table)\n",
    "\n",
    "-- Getting aggregated values by session and user\n",
    "SELECT user_pseudo_id,\n",
    "       session,\n",
    "       MIN(event_date) AS first_event_date,\n",
    "       MIN(event_timestamp) AS first_event_timestamp,\n",
    "       CASE WHEN SUM(page_view) > 0 THEN 1 ELSE 0 END viewed_page,\n",
    "       CASE WHEN SUM(add_to_cart) > 0 THEN 1 ELSE 0 END added_to_cart,\n",
    "       CASE WHEN SUM(begin_checkout) > 0 THEN 1 ELSE 0 END began_checkout,\n",
    "       CASE WHEN SUM(purchase) > 0 THEN 1 ELSE 0 END purchased\n",
    "FROM flagged_events\n",
    "GROUP BY user_pseudo_id, session;\"\"\"\n",
    "session_query = client.query(session_sql).to_dataframe()"
   ]
  },
  {
   "cell_type": "code",
   "execution_count": null,
   "id": "db261243",
   "metadata": {},
   "outputs": [],
   "source": [
    "long_session = session_query.melt(\n",
    "            id_vars=['user_pseudo_id',\n",
    "                     'session',\n",
    "                     'first_event_date',\n",
    "                     'first_event_timestamp'])\\\n",
    "            .rename(columns={'variable': 'event', 'value': 'occurence'})"
   ]
  },
  {
   "cell_type": "code",
   "execution_count": null,
   "id": "beed6b34",
   "metadata": {},
   "outputs": [],
   "source": [
    "sns.barplot(x = 'event',\n",
    "            y = 'occurence',\n",
    "            data = long_session)\n",
    "plt.show()"
   ]
  },
  {
   "cell_type": "markdown",
   "id": "c7978c07",
   "metadata": {},
   "source": [
    "#### Segmentation Queries"
   ]
  },
  {
   "cell_type": "markdown",
   "id": "b98fb9c1",
   "metadata": {},
   "source": [
    "Query for device information"
   ]
  },
  {
   "cell_type": "code",
   "execution_count": null,
   "id": "17185ab5",
   "metadata": {},
   "outputs": [],
   "source": [
    "device_sql = \"\"\"SELECT DISTINCT user_pseudo_id,\n",
    "        events.value.int_value AS session,\n",
    "        device.category,\n",
    "        device.mobile_brand_name,\n",
    "        device.operating_system\n",
    "    FROM `bigquery-public-data.ga4_obfuscated_sample_ecommerce.events_20210129`,\n",
    "        UNNEST(event_params) AS events\n",
    "    WHERE events.key = 'ga_session_id'\n",
    "    UNION ALL\n",
    "    SELECT DISTINCT user_pseudo_id,\n",
    "        events.value.int_value AS session,\n",
    "        device.category,\n",
    "        device.mobile_brand_name,\n",
    "        device.operating_system\n",
    "    FROM `bigquery-public-data.ga4_obfuscated_sample_ecommerce.events_20210130`,\n",
    "        UNNEST(event_params) AS events\n",
    "    WHERE events.key = 'ga_session_id'\n",
    "    UNION ALL\n",
    "    SELECT DISTINCT user_pseudo_id,\n",
    "        events.value.int_value AS session,\n",
    "        device.category,\n",
    "        device.mobile_brand_name,\n",
    "        device.operating_system\n",
    "    FROM `bigquery-public-data.ga4_obfuscated_sample_ecommerce.events_20210131`,\n",
    "        UNNEST(event_params) AS events\n",
    "    WHERE events.key = 'ga_session_id'\"\"\""
   ]
  },
  {
   "cell_type": "code",
   "execution_count": null,
   "id": "84dabfb4",
   "metadata": {},
   "outputs": [],
   "source": [
    "geo_sql = \"\"\"SELECT DISTINCT user_pseudo_id,\n",
    "        events.value.int_value AS session,\n",
    "        geo.continent,\n",
    "        geo.country,\n",
    "        geo.region,\n",
    "        geo.city\n",
    "    FROM `bigquery-public-data.ga4_obfuscated_sample_ecommerce.events_20210129`,\n",
    "        UNNEST(event_params) AS events\n",
    "    WHERE events.key = 'ga_session_id'\n",
    "    UNION ALL\n",
    "    SELECT DISTINCT user_pseudo_id,\n",
    "        events.value.int_value AS session,\n",
    "        geo.continent,\n",
    "        geo.country,\n",
    "        geo.region,\n",
    "        geo.city\n",
    "    FROM `bigquery-public-data.ga4_obfuscated_sample_ecommerce.events_20210130`,\n",
    "        UNNEST(event_params) AS events\n",
    "    WHERE events.key = 'ga_session_id'\n",
    "    UNION ALL\n",
    "    SELECT DISTINCT user_pseudo_id,\n",
    "        events.value.int_value AS session,\n",
    "        geo.continent,\n",
    "        geo.country,\n",
    "        geo.region,\n",
    "        geo.city\n",
    "    FROM `bigquery-public-data.ga4_obfuscated_sample_ecommerce.events_20210131`,\n",
    "        UNNEST(event_params) AS events\n",
    "    WHERE events.key = 'ga_session_id'\"\"\""
   ]
  },
  {
   "cell_type": "code",
   "execution_count": null,
   "id": "91d402d9",
   "metadata": {},
   "outputs": [],
   "source": [
    "device_query = client.query(device_sql).to_dataframe()\n",
    "geo_query = client.query(geo_sql).to_dataframe()"
   ]
  },
  {
   "cell_type": "markdown",
   "id": "d8b75936",
   "metadata": {},
   "source": [
    "#### Code to workshop clustering"
   ]
  },
  {
   "cell_type": "code",
   "execution_count": null,
   "id": "911ee1d2",
   "metadata": {},
   "outputs": [],
   "source": [
    "clustering_df = event_results.loc[:, ['user_pseudo_id', 'first_event_date']]\\\n",
    "    .merge(geo_query.loc[:, ['user_pseudo_id', 'continent', 'country', 'region']],\n",
    "           how='left',\n",
    "           on='user_pseudo_id')\n",
    "\n",
    "clustering_df['first_event_date'] = pd.to_datetime(clustering_df['first_event_date'])\n",
    "\n",
    "# Remapping countries to turn into numeric columns\n",
    "country_counts = clustering_df['country'].value_counts()\n",
    "clustering_df['country_map'] = clustering_df['country'].apply(lambda x: x if country_counts[x] > 20 else 'Other')\n",
    "\n",
    "region_counts = clustering_df['region'].value_counts()\n",
    "clustering_df['region_map'] = clustering_df['region'].apply(lambda x: x if region_counts[x] > 20 else 'Other')\n",
    "clust_df = clustering_df.set_index('user_pseudo_id').loc[:, ['first_event_date', 'country_map', 'region_map']]"
   ]
  },
  {
   "cell_type": "code",
   "execution_count": null,
   "id": "a4057d64",
   "metadata": {},
   "outputs": [],
   "source": [
    "prepped_cluster_df = pd.get_dummies(clust_df, columns = ['country_map', 'region_map', 'first_event_date'], dtype=int)"
   ]
  },
  {
   "cell_type": "code",
   "execution_count": null,
   "id": "976fbc80",
   "metadata": {},
   "outputs": [],
   "source": [
    "inertias = []\n",
    "\n",
    "for i in range(2, 20):\n",
    " k_means = KMeans(n_clusters=i)\n",
    " k_means.fit(prepped_cluster_df)\n",
    " inertias.append(k_means.inertia_)"
   ]
  },
  {
   "cell_type": "code",
   "execution_count": null,
   "id": "84433f83",
   "metadata": {},
   "outputs": [],
   "source": [
    "plt.plot([i for i in range(2, 20)],\n",
    "         inertias)\n",
    "plt.show()"
   ]
  },
  {
   "cell_type": "markdown",
   "id": "d003f138",
   "metadata": {},
   "source": [
    "You have to squint, but 10 clusters is approximately an elbow"
   ]
  },
  {
   "cell_type": "code",
   "execution_count": null,
   "id": "ef1a0872",
   "metadata": {},
   "outputs": [],
   "source": [
    "KMeans(n_clusters=5).fit_predict(prepped_cluster_df)"
   ]
  }
 ],
 "metadata": {
  "kernelspec": {
   "display_name": ".venv (3.13.7)",
   "language": "python",
   "name": "python3"
  },
  "language_info": {
   "codemirror_mode": {
    "name": "ipython",
    "version": 3
   },
   "file_extension": ".py",
   "mimetype": "text/x-python",
   "name": "python",
   "nbconvert_exporter": "python",
   "pygments_lexer": "ipython3",
   "version": "3.13.7"
  }
 },
 "nbformat": 4,
 "nbformat_minor": 5
}
