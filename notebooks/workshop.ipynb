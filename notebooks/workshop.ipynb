{
 "cells": [
  {
   "cell_type": "code",
   "execution_count": 1,
   "id": "827735cc",
   "metadata": {},
   "outputs": [],
   "source": [
    "from google.cloud import bigquery\n",
    "import pandas as pd"
   ]
  },
  {
   "cell_type": "code",
   "execution_count": 2,
   "id": "80a68c9d",
   "metadata": {},
   "outputs": [],
   "source": [
    "client = bigquery.Client(project='product-analytics-portfolio')"
   ]
  },
  {
   "cell_type": "markdown",
   "id": "03e5701d",
   "metadata": {},
   "source": [
    "#### Prepping for the initial data pipeline"
   ]
  },
  {
   "cell_type": "markdown",
   "id": "6cd8b478",
   "metadata": {},
   "source": [
    "Writing a query to determine if a user EVER converted, regardless of date or session"
   ]
  },
  {
   "cell_type": "code",
   "execution_count": null,
   "id": "fa91d422",
   "metadata": {},
   "outputs": [
    {
     "ename": "BadRequest",
     "evalue": "400 Unrecognized name: events at [5:8]; reason: invalidQuery, location: query, message: Unrecognized name: events at [5:8]\n\nLocation: US\nJob ID: b0fed03c-c4f4-48f1-9539-84eb4caa0b11\n",
     "output_type": "error",
     "traceback": [
      "\u001b[31m---------------------------------------------------------------------------\u001b[39m",
      "\u001b[31mBadRequest\u001b[39m                                Traceback (most recent call last)",
      "\u001b[36mCell\u001b[39m\u001b[36m \u001b[39m\u001b[32mIn[3]\u001b[39m\u001b[32m, line 33\u001b[39m\n\u001b[32m      1\u001b[39m event_query = \u001b[33m\"\"\"\u001b[39m\u001b[33mWITH stacked_table AS (SELECT event_date,\u001b[39m\n\u001b[32m      2\u001b[39m \u001b[33m       event_timestamp,\u001b[39m\n\u001b[32m      3\u001b[39m \u001b[33m       user_pseudo_id,\u001b[39m\n\u001b[32m   (...)\u001b[39m\u001b[32m     31\u001b[39m \u001b[33mFROM flagged_events\u001b[39m\n\u001b[32m     32\u001b[39m \u001b[33mGROUP BY user_pseudo_id;\u001b[39m\u001b[33m\"\"\"\u001b[39m\n\u001b[32m---> \u001b[39m\u001b[32m33\u001b[39m event_results = \u001b[43mclient\u001b[49m\u001b[43m.\u001b[49m\u001b[43mquery\u001b[49m\u001b[43m(\u001b[49m\u001b[43mevent_query\u001b[49m\u001b[43m)\u001b[49m\u001b[43m.\u001b[49m\u001b[43mto_dataframe\u001b[49m\u001b[43m(\u001b[49m\u001b[43m)\u001b[49m\n",
      "\u001b[36mFile \u001b[39m\u001b[32m~/Documents/Programming/ecommerce-funnel-analysis/.venv/lib/python3.13/site-packages/google/cloud/bigquery/job/query.py:2159\u001b[39m, in \u001b[36mQueryJob.to_dataframe\u001b[39m\u001b[34m(self, bqstorage_client, dtypes, progress_bar_type, create_bqstorage_client, max_results, geography_as_object, bool_dtype, int_dtype, float_dtype, string_dtype, date_dtype, datetime_dtype, time_dtype, timestamp_dtype, range_date_dtype, range_datetime_dtype, range_timestamp_dtype)\u001b[39m\n\u001b[32m   1929\u001b[39m \u001b[38;5;28;01mdef\u001b[39;00m\u001b[38;5;250m \u001b[39m\u001b[34mto_dataframe\u001b[39m(\n\u001b[32m   1930\u001b[39m     \u001b[38;5;28mself\u001b[39m,\n\u001b[32m   1931\u001b[39m     bqstorage_client: Optional[\u001b[33m\"\u001b[39m\u001b[33mbigquery_storage.BigQueryReadClient\u001b[39m\u001b[33m\"\u001b[39m] = \u001b[38;5;28;01mNone\u001b[39;00m,\n\u001b[32m   (...)\u001b[39m\u001b[32m   1951\u001b[39m     ] = DefaultPandasDTypes.RANGE_TIMESTAMP_DTYPE,\n\u001b[32m   1952\u001b[39m ) -> \u001b[33m\"\u001b[39m\u001b[33mpandas.DataFrame\u001b[39m\u001b[33m\"\u001b[39m:\n\u001b[32m   1953\u001b[39m \u001b[38;5;250m    \u001b[39m\u001b[33;03m\"\"\"Return a pandas DataFrame from a QueryJob\u001b[39;00m\n\u001b[32m   1954\u001b[39m \n\u001b[32m   1955\u001b[39m \u001b[33;03m    Args:\u001b[39;00m\n\u001b[32m   (...)\u001b[39m\u001b[32m   2157\u001b[39m \u001b[33;03m            :mod:`shapely` library cannot be imported.\u001b[39;00m\n\u001b[32m   2158\u001b[39m \u001b[33;03m    \"\"\"\u001b[39;00m\n\u001b[32m-> \u001b[39m\u001b[32m2159\u001b[39m     query_result = \u001b[43mwait_for_query\u001b[49m\u001b[43m(\u001b[49m\u001b[38;5;28;43mself\u001b[39;49m\u001b[43m,\u001b[49m\u001b[43m \u001b[49m\u001b[43mprogress_bar_type\u001b[49m\u001b[43m,\u001b[49m\u001b[43m \u001b[49m\u001b[43mmax_results\u001b[49m\u001b[43m=\u001b[49m\u001b[43mmax_results\u001b[49m\u001b[43m)\u001b[49m\n\u001b[32m   2160\u001b[39m     \u001b[38;5;28;01mreturn\u001b[39;00m query_result.to_dataframe(\n\u001b[32m   2161\u001b[39m         bqstorage_client=bqstorage_client,\n\u001b[32m   2162\u001b[39m         dtypes=dtypes,\n\u001b[32m   (...)\u001b[39m\u001b[32m   2176\u001b[39m         range_timestamp_dtype=range_timestamp_dtype,\n\u001b[32m   2177\u001b[39m     )\n",
      "\u001b[36mFile \u001b[39m\u001b[32m~/Documents/Programming/ecommerce-funnel-analysis/.venv/lib/python3.13/site-packages/google/cloud/bigquery/_tqdm_helpers.py:107\u001b[39m, in \u001b[36mwait_for_query\u001b[39m\u001b[34m(query_job, progress_bar_type, max_results)\u001b[39m\n\u001b[32m    103\u001b[39m progress_bar = get_progress_bar(\n\u001b[32m    104\u001b[39m     progress_bar_type, \u001b[33m\"\u001b[39m\u001b[33mQuery is running\u001b[39m\u001b[33m\"\u001b[39m, default_total, \u001b[33m\"\u001b[39m\u001b[33mquery\u001b[39m\u001b[33m\"\u001b[39m\n\u001b[32m    105\u001b[39m )\n\u001b[32m    106\u001b[39m \u001b[38;5;28;01mif\u001b[39;00m progress_bar \u001b[38;5;129;01mis\u001b[39;00m \u001b[38;5;28;01mNone\u001b[39;00m:\n\u001b[32m--> \u001b[39m\u001b[32m107\u001b[39m     \u001b[38;5;28;01mreturn\u001b[39;00m \u001b[43mquery_job\u001b[49m\u001b[43m.\u001b[49m\u001b[43mresult\u001b[49m\u001b[43m(\u001b[49m\u001b[43mmax_results\u001b[49m\u001b[43m=\u001b[49m\u001b[43mmax_results\u001b[49m\u001b[43m)\u001b[49m\n\u001b[32m    109\u001b[39m i = \u001b[32m0\u001b[39m\n\u001b[32m    110\u001b[39m \u001b[38;5;28;01mwhile\u001b[39;00m \u001b[38;5;28;01mTrue\u001b[39;00m:\n",
      "\u001b[36mFile \u001b[39m\u001b[32m~/Documents/Programming/ecommerce-funnel-analysis/.venv/lib/python3.13/site-packages/google/cloud/bigquery/job/query.py:1773\u001b[39m, in \u001b[36mQueryJob.result\u001b[39m\u001b[34m(self, page_size, max_results, retry, timeout, start_index, job_retry)\u001b[39m\n\u001b[32m   1768\u001b[39m     remaining_timeout = \u001b[38;5;28;01mNone\u001b[39;00m\n\u001b[32m   1770\u001b[39m \u001b[38;5;28;01mif\u001b[39;00m remaining_timeout \u001b[38;5;129;01mis\u001b[39;00m \u001b[38;5;28;01mNone\u001b[39;00m:\n\u001b[32m   1771\u001b[39m     \u001b[38;5;66;03m# Since is_job_done() calls jobs.getQueryResults, which is a\u001b[39;00m\n\u001b[32m   1772\u001b[39m     \u001b[38;5;66;03m# long-running API, don't delay the next request at all.\u001b[39;00m\n\u001b[32m-> \u001b[39m\u001b[32m1773\u001b[39m     \u001b[38;5;28;01mwhile\u001b[39;00m \u001b[38;5;129;01mnot\u001b[39;00m \u001b[43mis_job_done\u001b[49m\u001b[43m(\u001b[49m\u001b[43m)\u001b[49m:\n\u001b[32m   1774\u001b[39m         \u001b[38;5;28;01mpass\u001b[39;00m\n\u001b[32m   1775\u001b[39m \u001b[38;5;28;01melse\u001b[39;00m:\n\u001b[32m   1776\u001b[39m     \u001b[38;5;66;03m# Use a monotonic clock since we don't actually care about\u001b[39;00m\n\u001b[32m   1777\u001b[39m     \u001b[38;5;66;03m# daylight savings or similar, just the elapsed time.\u001b[39;00m\n",
      "\u001b[36mFile \u001b[39m\u001b[32m~/Documents/Programming/ecommerce-funnel-analysis/.venv/lib/python3.13/site-packages/google/api_core/retry/retry_unary.py:294\u001b[39m, in \u001b[36mRetry.__call__.<locals>.retry_wrapped_func\u001b[39m\u001b[34m(*args, **kwargs)\u001b[39m\n\u001b[32m    290\u001b[39m target = functools.partial(func, *args, **kwargs)\n\u001b[32m    291\u001b[39m sleep_generator = exponential_sleep_generator(\n\u001b[32m    292\u001b[39m     \u001b[38;5;28mself\u001b[39m._initial, \u001b[38;5;28mself\u001b[39m._maximum, multiplier=\u001b[38;5;28mself\u001b[39m._multiplier\n\u001b[32m    293\u001b[39m )\n\u001b[32m--> \u001b[39m\u001b[32m294\u001b[39m \u001b[38;5;28;01mreturn\u001b[39;00m \u001b[43mretry_target\u001b[49m\u001b[43m(\u001b[49m\n\u001b[32m    295\u001b[39m \u001b[43m    \u001b[49m\u001b[43mtarget\u001b[49m\u001b[43m,\u001b[49m\n\u001b[32m    296\u001b[39m \u001b[43m    \u001b[49m\u001b[38;5;28;43mself\u001b[39;49m\u001b[43m.\u001b[49m\u001b[43m_predicate\u001b[49m\u001b[43m,\u001b[49m\n\u001b[32m    297\u001b[39m \u001b[43m    \u001b[49m\u001b[43msleep_generator\u001b[49m\u001b[43m,\u001b[49m\n\u001b[32m    298\u001b[39m \u001b[43m    \u001b[49m\u001b[43mtimeout\u001b[49m\u001b[43m=\u001b[49m\u001b[38;5;28;43mself\u001b[39;49m\u001b[43m.\u001b[49m\u001b[43m_timeout\u001b[49m\u001b[43m,\u001b[49m\n\u001b[32m    299\u001b[39m \u001b[43m    \u001b[49m\u001b[43mon_error\u001b[49m\u001b[43m=\u001b[49m\u001b[43mon_error\u001b[49m\u001b[43m,\u001b[49m\n\u001b[32m    300\u001b[39m \u001b[43m\u001b[49m\u001b[43m)\u001b[49m\n",
      "\u001b[36mFile \u001b[39m\u001b[32m~/Documents/Programming/ecommerce-funnel-analysis/.venv/lib/python3.13/site-packages/google/api_core/retry/retry_unary.py:156\u001b[39m, in \u001b[36mretry_target\u001b[39m\u001b[34m(target, predicate, sleep_generator, timeout, on_error, exception_factory, **kwargs)\u001b[39m\n\u001b[32m    152\u001b[39m \u001b[38;5;66;03m# pylint: disable=broad-except\u001b[39;00m\n\u001b[32m    153\u001b[39m \u001b[38;5;66;03m# This function explicitly must deal with broad exceptions.\u001b[39;00m\n\u001b[32m    154\u001b[39m \u001b[38;5;28;01mexcept\u001b[39;00m \u001b[38;5;167;01mException\u001b[39;00m \u001b[38;5;28;01mas\u001b[39;00m exc:\n\u001b[32m    155\u001b[39m     \u001b[38;5;66;03m# defer to shared logic for handling errors\u001b[39;00m\n\u001b[32m--> \u001b[39m\u001b[32m156\u001b[39m     next_sleep = \u001b[43m_retry_error_helper\u001b[49m\u001b[43m(\u001b[49m\n\u001b[32m    157\u001b[39m \u001b[43m        \u001b[49m\u001b[43mexc\u001b[49m\u001b[43m,\u001b[49m\n\u001b[32m    158\u001b[39m \u001b[43m        \u001b[49m\u001b[43mdeadline\u001b[49m\u001b[43m,\u001b[49m\n\u001b[32m    159\u001b[39m \u001b[43m        \u001b[49m\u001b[43msleep_iter\u001b[49m\u001b[43m,\u001b[49m\n\u001b[32m    160\u001b[39m \u001b[43m        \u001b[49m\u001b[43merror_list\u001b[49m\u001b[43m,\u001b[49m\n\u001b[32m    161\u001b[39m \u001b[43m        \u001b[49m\u001b[43mpredicate\u001b[49m\u001b[43m,\u001b[49m\n\u001b[32m    162\u001b[39m \u001b[43m        \u001b[49m\u001b[43mon_error\u001b[49m\u001b[43m,\u001b[49m\n\u001b[32m    163\u001b[39m \u001b[43m        \u001b[49m\u001b[43mexception_factory\u001b[49m\u001b[43m,\u001b[49m\n\u001b[32m    164\u001b[39m \u001b[43m        \u001b[49m\u001b[43mtimeout\u001b[49m\u001b[43m,\u001b[49m\n\u001b[32m    165\u001b[39m \u001b[43m    \u001b[49m\u001b[43m)\u001b[49m\n\u001b[32m    166\u001b[39m     \u001b[38;5;66;03m# if exception not raised, sleep before next attempt\u001b[39;00m\n\u001b[32m    167\u001b[39m     time.sleep(next_sleep)\n",
      "\u001b[36mFile \u001b[39m\u001b[32m~/Documents/Programming/ecommerce-funnel-analysis/.venv/lib/python3.13/site-packages/google/api_core/retry/retry_base.py:214\u001b[39m, in \u001b[36m_retry_error_helper\u001b[39m\u001b[34m(exc, deadline, sleep_iterator, error_list, predicate_fn, on_error_fn, exc_factory_fn, original_timeout)\u001b[39m\n\u001b[32m    208\u001b[39m \u001b[38;5;28;01mif\u001b[39;00m \u001b[38;5;129;01mnot\u001b[39;00m predicate_fn(exc):\n\u001b[32m    209\u001b[39m     final_exc, source_exc = exc_factory_fn(\n\u001b[32m    210\u001b[39m         error_list,\n\u001b[32m    211\u001b[39m         RetryFailureReason.NON_RETRYABLE_ERROR,\n\u001b[32m    212\u001b[39m         original_timeout,\n\u001b[32m    213\u001b[39m     )\n\u001b[32m--> \u001b[39m\u001b[32m214\u001b[39m     \u001b[38;5;28;01mraise\u001b[39;00m final_exc \u001b[38;5;28;01mfrom\u001b[39;00m\u001b[38;5;250m \u001b[39m\u001b[34;01msource_exc\u001b[39;00m\n\u001b[32m    215\u001b[39m \u001b[38;5;28;01mif\u001b[39;00m on_error_fn \u001b[38;5;129;01mis\u001b[39;00m \u001b[38;5;129;01mnot\u001b[39;00m \u001b[38;5;28;01mNone\u001b[39;00m:\n\u001b[32m    216\u001b[39m     on_error_fn(exc)\n",
      "\u001b[36mFile \u001b[39m\u001b[32m~/Documents/Programming/ecommerce-funnel-analysis/.venv/lib/python3.13/site-packages/google/api_core/retry/retry_unary.py:147\u001b[39m, in \u001b[36mretry_target\u001b[39m\u001b[34m(target, predicate, sleep_generator, timeout, on_error, exception_factory, **kwargs)\u001b[39m\n\u001b[32m    145\u001b[39m \u001b[38;5;28;01mwhile\u001b[39;00m \u001b[38;5;28;01mTrue\u001b[39;00m:\n\u001b[32m    146\u001b[39m     \u001b[38;5;28;01mtry\u001b[39;00m:\n\u001b[32m--> \u001b[39m\u001b[32m147\u001b[39m         result = \u001b[43mtarget\u001b[49m\u001b[43m(\u001b[49m\u001b[43m)\u001b[49m\n\u001b[32m    148\u001b[39m         \u001b[38;5;28;01mif\u001b[39;00m inspect.isawaitable(result):\n\u001b[32m    149\u001b[39m             warnings.warn(_ASYNC_RETRY_WARNING)\n",
      "\u001b[36mFile \u001b[39m\u001b[32m~/Documents/Programming/ecommerce-funnel-analysis/.venv/lib/python3.13/site-packages/google/cloud/bigquery/job/query.py:1722\u001b[39m, in \u001b[36mQueryJob.result.<locals>.is_job_done\u001b[39m\u001b[34m()\u001b[39m\n\u001b[32m   1699\u001b[39m \u001b[38;5;28;01mif\u001b[39;00m job_failed_exception \u001b[38;5;129;01mis\u001b[39;00m \u001b[38;5;129;01mnot\u001b[39;00m \u001b[38;5;28;01mNone\u001b[39;00m:\n\u001b[32m   1700\u001b[39m     \u001b[38;5;66;03m# Only try to restart the query job if the job failed for\u001b[39;00m\n\u001b[32m   1701\u001b[39m     \u001b[38;5;66;03m# a retriable reason. For example, don't restart the query\u001b[39;00m\n\u001b[32m   (...)\u001b[39m\u001b[32m   1719\u001b[39m     \u001b[38;5;66;03m# into an exception that can be processed by the\u001b[39;00m\n\u001b[32m   1720\u001b[39m     \u001b[38;5;66;03m# `job_retry` predicate.\u001b[39;00m\n\u001b[32m   1721\u001b[39m     restart_query_job = \u001b[38;5;28;01mTrue\u001b[39;00m\n\u001b[32m-> \u001b[39m\u001b[32m1722\u001b[39m     \u001b[38;5;28;01mraise\u001b[39;00m job_failed_exception\n\u001b[32m   1723\u001b[39m \u001b[38;5;28;01melse\u001b[39;00m:\n\u001b[32m   1724\u001b[39m     \u001b[38;5;66;03m# Make sure that the _query_results are cached so we\u001b[39;00m\n\u001b[32m   1725\u001b[39m     \u001b[38;5;66;03m# can return a complete RowIterator.\u001b[39;00m\n\u001b[32m   (...)\u001b[39m\u001b[32m   1731\u001b[39m     \u001b[38;5;66;03m# making any extra API calls if the previous loop\u001b[39;00m\n\u001b[32m   1732\u001b[39m     \u001b[38;5;66;03m# iteration fetched the finished job.\u001b[39;00m\n\u001b[32m   1733\u001b[39m     \u001b[38;5;28mself\u001b[39m._reload_query_results(\n\u001b[32m   1734\u001b[39m         retry=retry, **reload_query_results_kwargs\n\u001b[32m   1735\u001b[39m     )\n",
      "\u001b[31mBadRequest\u001b[39m: 400 Unrecognized name: events at [5:8]; reason: invalidQuery, location: query, message: Unrecognized name: events at [5:8]\n\nLocation: US\nJob ID: b0fed03c-c4f4-48f1-9539-84eb4caa0b11\n"
     ]
    }
   ],
   "source": [
    "event_query = \"\"\"WITH stacked_table AS (SELECT event_date,\n",
    "       event_timestamp,\n",
    "       user_pseudo_id,\n",
    "       event_name\n",
    "FROM `bigquery-public-data.ga4_obfuscated_sample_ecommerce.events_20210130`\n",
    "WHERE event_name IN ('page_view', 'add_to_cart', 'begin_checkout', 'purchase')\n",
    "UNION ALL\n",
    "SELECT event_date,\n",
    "       event_timestamp,\n",
    "       user_pseudo_id,\n",
    "       event_name\n",
    "FROM `bigquery-public-data.ga4_obfuscated_sample_ecommerce.events_20210131`\n",
    "WHERE event_name IN ('page_view', 'add_to_cart', 'begin_checkout', 'purchase')),\n",
    "\n",
    "flagged_events AS (SELECT *,\n",
    "       CASE WHEN event_name = 'page_view' THEN 1 ELSE 0 END AS page_view,\n",
    "       CASE WHEN event_name = 'add_to_cart' THEN 1 ELSE 0 END AS add_to_cart,\n",
    "       CASE WHEN event_name = 'begin_checkout' THEN 1 ELSE 0 END as begin_checkout,\n",
    "       CASE WHEN event_name = 'purchase' THEN 1 ELSE 0 END as purchase\n",
    "FROM stacked_table)\n",
    "\n",
    "SELECT user_pseudo_id,\n",
    "       MIN(event_date) AS first_event_date,\n",
    "       MIN(event_timestamp) AS first_event_timestamp,\n",
    "       CASE WHEN SUM(page_view) > 0 THEN 1 ELSE 0 END viewed_page,\n",
    "       CASE WHEN SUM(add_to_cart) > 0 THEN 1 ELSE 0 END added_to_cart,\n",
    "       CASE WHEN SUM(begin_checkout) > 0 THEN 1 ELSE 0 END began_checkout,\n",
    "       CASE WHEN SUM(purchase) > 0 THEN 1 ELSE 0 END purchased\n",
    "FROM flagged_events\n",
    "GROUP BY user_pseudo_id;\"\"\"\n",
    "event_results = client.query(event_query).to_dataframe()"
   ]
  },
  {
   "cell_type": "markdown",
   "id": "aba05447",
   "metadata": {},
   "source": [
    "Writing a query to determine intra-session conversion"
   ]
  },
  {
   "cell_type": "code",
   "execution_count": null,
   "id": "69b5b349",
   "metadata": {},
   "outputs": [],
   "source": [
    "session_sql = \"\"\"-- CTE to stack relevant columns from two date tables\n",
    "-- Needs to be compressed to query across all tables with a wildcard for production\n",
    "WITH stacked_table AS (SELECT DISTINCT user_pseudo_id,\n",
    "      event_date,\n",
    "      event_timestamp, \n",
    "      events.value.int_value AS session,\n",
    "      event_name\n",
    "FROM `bigquery-public-data.ga4_obfuscated_sample_ecommerce.events_20210130`,\n",
    "     UNNEST(event_params) AS events\n",
    "WHERE event_name IN ('page_view', 'add_to_cart', 'begin_checkout', 'purchase') AND\n",
    "      events.key = 'ga_session_id'\n",
    "UNION ALL\n",
    "SELECT DISTINCT user_pseudo_id,\n",
    "      event_date,\n",
    "      event_timestamp, \n",
    "      events.value.int_value AS session,\n",
    "      event_name\n",
    "FROM `bigquery-public-data.ga4_obfuscated_sample_ecommerce.events_20210130`,\n",
    "     UNNEST(event_params) AS events\n",
    "WHERE event_name IN ('page_view', 'add_to_cart', 'begin_checkout', 'purchase') AND\n",
    "      events.key = 'ga_session_id'),\n",
    "\n",
    "-- CTE to create flagged events by user and session\n",
    "flagged_events AS (SELECT *,\n",
    "       CASE WHEN event_name = 'page_view' THEN 1 ELSE 0 END AS page_view,\n",
    "       CASE WHEN event_name = 'add_to_cart' THEN 1 ELSE 0 END AS add_to_cart,\n",
    "       CASE WHEN event_name = 'begin_checkout' THEN 1 ELSE 0 END as begin_checkout,\n",
    "       CASE WHEN event_name = 'purchase' THEN 1 ELSE 0 END as purchase\n",
    "FROM stacked_table)\n",
    "\n",
    "-- Getting aggregated values by session and user\n",
    "SELECT user_pseudo_id,\n",
    "       session,\n",
    "       MIN(event_date) AS first_event_date,\n",
    "       MIN(event_timestamp) AS first_event_timestamp,\n",
    "       CASE WHEN SUM(page_view) > 0 THEN 1 ELSE 0 END viewed_page,\n",
    "       CASE WHEN SUM(add_to_cart) > 0 THEN 1 ELSE 0 END added_to_cart,\n",
    "       CASE WHEN SUM(begin_checkout) > 0 THEN 1 ELSE 0 END began_checkout,\n",
    "       CASE WHEN SUM(purchase) > 0 THEN 1 ELSE 0 END purchased\n",
    "FROM flagged_events\n",
    "GROUP BY user_pseudo_id, session;\"\"\""
   ]
  },
  {
   "cell_type": "markdown",
   "id": "c7978c07",
   "metadata": {},
   "source": [
    "#### Segmentation Queries"
   ]
  },
  {
   "cell_type": "markdown",
   "id": "b98fb9c1",
   "metadata": {},
   "source": [
    "Query for device information"
   ]
  },
  {
   "cell_type": "code",
   "execution_count": null,
   "id": "17185ab5",
   "metadata": {},
   "outputs": [],
   "source": [
    "device_sql = \"\"\"SELECT DISTINCT user_pseudo_id,\n",
    "       events.value.int_value AS session,\n",
    "       device.category,\n",
    "       device.mobile_brand_name,\n",
    "       device.operating_system\n",
    "FROM `bigquery-public-data.ga4_obfuscated_sample_ecommerce.events_20210131`,\n",
    "     UNNEST(event_params) AS events\n",
    "WHERE events.key = 'ga_session_id'\"\"\""
   ]
  },
  {
   "cell_type": "code",
   "execution_count": null,
   "id": "84dabfb4",
   "metadata": {},
   "outputs": [],
   "source": [
    "geo_sql = \"\"\"SELECT DISTINCT user_pseudo_id,\n",
    "       events.value.int_value AS session,\n",
    "       geo.continent,\n",
    "       geo.country,\n",
    "       geo.region,\n",
    "       geo.city\n",
    "FROM `bigquery-public-data.ga4_obfuscated_sample_ecommerce.events_20210131`,\n",
    "     UNNEST(event_params) AS events\n",
    "WHERE events.key = 'ga_session_id'\"\"\""
   ]
  }
 ],
 "metadata": {
  "kernelspec": {
   "display_name": ".venv (3.13.7)",
   "language": "python",
   "name": "python3"
  },
  "language_info": {
   "codemirror_mode": {
    "name": "ipython",
    "version": 3
   },
   "file_extension": ".py",
   "mimetype": "text/x-python",
   "name": "python",
   "nbconvert_exporter": "python",
   "pygments_lexer": "ipython3",
   "version": "3.13.7"
  }
 },
 "nbformat": 4,
 "nbformat_minor": 5
}
