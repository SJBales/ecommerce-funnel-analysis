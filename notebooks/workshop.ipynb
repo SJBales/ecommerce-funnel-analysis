{
 "cells": [
  {
   "cell_type": "code",
   "execution_count": 1,
   "id": "827735cc",
   "metadata": {},
   "outputs": [],
   "source": [
    "from google.cloud import bigquery\n",
    "import pandas as pd\n",
    "import seaborn as sns\n",
    "import matplotlib.pyplot as plt\n",
    "from sklearn.cluster import KMeans"
   ]
  },
  {
   "cell_type": "code",
   "execution_count": 2,
   "id": "80a68c9d",
   "metadata": {},
   "outputs": [],
   "source": [
    "client = bigquery.Client(project='product-analytics-portfolio')"
   ]
  },
  {
   "cell_type": "markdown",
   "id": "03e5701d",
   "metadata": {},
   "source": [
    "#### Prepping for the initial data pipeline"
   ]
  },
  {
   "cell_type": "markdown",
   "id": "6cd8b478",
   "metadata": {},
   "source": [
    "Writing a query to determine if a user EVER converted, regardless of date or session"
   ]
  },
  {
   "cell_type": "code",
   "execution_count": 3,
   "id": "fa91d422",
   "metadata": {},
   "outputs": [
    {
     "name": "stderr",
     "output_type": "stream",
     "text": [
      "/Users/samueljoseph/Documents/Programming/ecommerce-funnel-analysis/.venv/lib/python3.13/site-packages/google/cloud/bigquery/table.py:1994: UserWarning: BigQuery Storage module not found, fetch data with the REST endpoint instead.\n",
      "  warnings.warn(\n"
     ]
    }
   ],
   "source": [
    "event_query = \"\"\"WITH stacked_table AS (SELECT event_date,\n",
    "        event_timestamp,\n",
    "        user_pseudo_id,\n",
    "        event_name\n",
    "    FROM `bigquery-public-data.ga4_obfuscated_sample_ecommerce.events_20210130`\n",
    "    WHERE event_name IN ('page_view', 'add_to_cart',\n",
    "    'begin_checkout', 'purchase')\n",
    "UNION ALL\n",
    "    SELECT event_date,\n",
    "        event_timestamp,\n",
    "        user_pseudo_id,\n",
    "        event_name\n",
    "    FROM `bigquery-public-data.ga4_obfuscated_sample_ecommerce.events_20210131`\n",
    "    WHERE event_name IN ('page_view', 'add_to_cart',\n",
    "    'begin_checkout', 'purchase')\n",
    "UNION ALL\n",
    "    SELECT event_date,\n",
    "        event_timestamp,\n",
    "        user_pseudo_id,\n",
    "        event_name\n",
    "    FROM `bigquery-public-data.ga4_obfuscated_sample_ecommerce.events_20210129`\n",
    "    WHERE event_name IN ('page_view', 'add_to_cart',\n",
    "    'begin_checkout', 'purchase')),\n",
    "\n",
    "flagged_events AS (SELECT *,\n",
    "       CASE WHEN event_name = 'page_view' THEN 1 ELSE 0 END AS page_view,\n",
    "       CASE WHEN event_name = 'add_to_cart' THEN 1 ELSE 0 END AS add_to_cart,\n",
    "       CASE WHEN event_name = 'begin_checkout' THEN 1 ELSE 0 END as begin_checkout,\n",
    "       CASE WHEN event_name = 'purchase' THEN 1 ELSE 0 END as purchase\n",
    "FROM stacked_table)\n",
    "\n",
    "SELECT user_pseudo_id,\n",
    "       MIN(event_date) AS first_event_date,\n",
    "       MIN(event_timestamp) AS first_event_timestamp,\n",
    "       CASE WHEN SUM(page_view) > 0 THEN 1 ELSE 0 END viewed_page,\n",
    "       CASE WHEN SUM(add_to_cart) > 0 THEN 1 ELSE 0 END added_to_cart,\n",
    "       CASE WHEN SUM(begin_checkout) > 0 THEN 1 ELSE 0 END began_checkout,\n",
    "       CASE WHEN SUM(purchase) > 0 THEN 1 ELSE 0 END purchased\n",
    "FROM flagged_events\n",
    "GROUP BY user_pseudo_id;\"\"\"\n",
    "event_results = client.query(event_query).to_dataframe()"
   ]
  },
  {
   "cell_type": "code",
   "execution_count": null,
   "id": "39e29442",
   "metadata": {},
   "outputs": [],
   "source": [
    "long_events = event_results.copy().melt(id_vars = ['user_pseudo_id', 'first_event_date', 'first_event_timestamp'])\\\n",
    ".rename(columns = {'variable': 'event', 'value': 'occurence'})"
   ]
  },
  {
   "cell_type": "code",
   "execution_count": null,
   "id": "3d0b1b45",
   "metadata": {},
   "outputs": [],
   "source": [
    "sns.barplot(x = 'event',\n",
    "            y = 'occurence',\n",
    "            data = long_events[long_events['event'] != 'viewed_page'])\n",
    "plt.title('Event Conversion Rates')\n",
    "plt.ylabel('Conversion Rate')\n",
    "plt.xlabel('Event')\n",
    "plt.show()"
   ]
  },
  {
   "cell_type": "code",
   "execution_count": null,
   "id": "fd2a3573",
   "metadata": {},
   "outputs": [],
   "source": [
    "# Plotting true conversion rates (% over total)\n",
    "sns.relplot(data = long_events,\n",
    "            x = 'first_event_date',\n",
    "            y = 'occurence',\n",
    "            hue = 'event',\n",
    "            kind = 'line')\n",
    "plt.show()"
   ]
  },
  {
   "cell_type": "code",
   "execution_count": null,
   "id": "01a44bf8",
   "metadata": {},
   "outputs": [],
   "source": [
    "# Plotting total page views and conversion\n",
    "agg_long_events = long_events.loc[:, ['first_event_date', 'event', 'occurence']]\\\n",
    "    .groupby(['first_event_date', 'event']).sum().reset_index()\n",
    "\n",
    "# Setting the theme\n",
    "custom_params = {\"axes.spines.right\": False, \"axes.spines.top\": False}\n",
    "sns.set_theme(style=\"ticks\", rc=custom_params)\n",
    "\n",
    "sns.relplot(data = agg_long_events,\n",
    "            x = 'first_event_date',\n",
    "            y = 'occurence',\n",
    "            hue = 'event',\n",
    "            kind = 'line')\n",
    "plt.title('Total Conversion Events')\n",
    "plt.ylabel('Count')\n",
    "plt.xlabel('Event')\n",
    "plt.show()"
   ]
  },
  {
   "cell_type": "markdown",
   "id": "aba05447",
   "metadata": {},
   "source": [
    "Writing a query to determine intra-session conversion"
   ]
  },
  {
   "cell_type": "code",
   "execution_count": null,
   "id": "69b5b349",
   "metadata": {},
   "outputs": [],
   "source": [
    "session_sql = \"\"\"-- CTE to stack relevant columns from two date tables\n",
    "-- Needs to be compressed to query across all tables with a wildcard for production\n",
    "WITH stacked_table AS (SELECT DISTINCT user_pseudo_id,\n",
    "      event_date,\n",
    "      event_timestamp, \n",
    "      events.value.int_value AS session,\n",
    "      event_name\n",
    "FROM `bigquery-public-data.ga4_obfuscated_sample_ecommerce.events_20210130`,\n",
    "     UNNEST(event_params) AS events\n",
    "WHERE event_name IN ('page_view', 'add_to_cart', 'begin_checkout', 'purchase') AND\n",
    "      events.key = 'ga_session_id'\n",
    "UNION ALL\n",
    "SELECT DISTINCT user_pseudo_id,\n",
    "      event_date,\n",
    "      event_timestamp, \n",
    "      events.value.int_value AS session,\n",
    "      event_name\n",
    "FROM `bigquery-public-data.ga4_obfuscated_sample_ecommerce.events_20210130`,\n",
    "     UNNEST(event_params) AS events\n",
    "WHERE event_name IN ('page_view', 'add_to_cart', 'begin_checkout', 'purchase') AND\n",
    "      events.key = 'ga_session_id'),\n",
    "\n",
    "-- CTE to create flagged events by user and session\n",
    "flagged_events AS (SELECT *,\n",
    "       CASE WHEN event_name = 'page_view' THEN 1 ELSE 0 END AS page_view,\n",
    "       CASE WHEN event_name = 'add_to_cart' THEN 1 ELSE 0 END AS add_to_cart,\n",
    "       CASE WHEN event_name = 'begin_checkout' THEN 1 ELSE 0 END as begin_checkout,\n",
    "       CASE WHEN event_name = 'purchase' THEN 1 ELSE 0 END as purchase\n",
    "FROM stacked_table)\n",
    "\n",
    "-- Getting aggregated values by session and user\n",
    "SELECT user_pseudo_id,\n",
    "       session,\n",
    "       MIN(event_date) AS first_event_date,\n",
    "       MIN(event_timestamp) AS first_event_timestamp,\n",
    "       CASE WHEN SUM(page_view) > 0 THEN 1 ELSE 0 END viewed_page,\n",
    "       CASE WHEN SUM(add_to_cart) > 0 THEN 1 ELSE 0 END added_to_cart,\n",
    "       CASE WHEN SUM(begin_checkout) > 0 THEN 1 ELSE 0 END began_checkout,\n",
    "       CASE WHEN SUM(purchase) > 0 THEN 1 ELSE 0 END purchased\n",
    "FROM flagged_events\n",
    "GROUP BY user_pseudo_id, session;\"\"\"\n",
    "session_query = client.query(session_sql).to_dataframe()"
   ]
  },
  {
   "cell_type": "code",
   "execution_count": null,
   "id": "db261243",
   "metadata": {},
   "outputs": [],
   "source": [
    "long_session = session_query.melt(\n",
    "            id_vars=['user_pseudo_id',\n",
    "                     'session',\n",
    "                     'first_event_date',\n",
    "                     'first_event_timestamp'])\\\n",
    "            .rename(columns={'variable': 'event', 'value': 'occurence'})"
   ]
  },
  {
   "cell_type": "code",
   "execution_count": null,
   "id": "beed6b34",
   "metadata": {},
   "outputs": [],
   "source": [
    "sns.barplot(x = 'event',\n",
    "            y = 'occurence',\n",
    "            data = long_session)\n",
    "plt.show()"
   ]
  },
  {
   "cell_type": "markdown",
   "id": "c7978c07",
   "metadata": {},
   "source": [
    "#### Segmentation Queries"
   ]
  },
  {
   "cell_type": "markdown",
   "id": "b98fb9c1",
   "metadata": {},
   "source": [
    "Query for device information"
   ]
  },
  {
   "cell_type": "code",
   "execution_count": 4,
   "id": "17185ab5",
   "metadata": {},
   "outputs": [],
   "source": [
    "device_sql = \"\"\"SELECT DISTINCT user_pseudo_id,\n",
    "        events.value.int_value AS session,\n",
    "        device.category,\n",
    "        device.mobile_brand_name,\n",
    "        device.operating_system\n",
    "    FROM `bigquery-public-data.ga4_obfuscated_sample_ecommerce.events_20210129`,\n",
    "        UNNEST(event_params) AS events\n",
    "    WHERE events.key = 'ga_session_id'\n",
    "    UNION ALL\n",
    "    SELECT DISTINCT user_pseudo_id,\n",
    "        events.value.int_value AS session,\n",
    "        device.category,\n",
    "        device.mobile_brand_name,\n",
    "        device.operating_system\n",
    "    FROM `bigquery-public-data.ga4_obfuscated_sample_ecommerce.events_20210130`,\n",
    "        UNNEST(event_params) AS events\n",
    "    WHERE events.key = 'ga_session_id'\n",
    "    UNION ALL\n",
    "    SELECT DISTINCT user_pseudo_id,\n",
    "        events.value.int_value AS session,\n",
    "        device.category,\n",
    "        device.mobile_brand_name,\n",
    "        device.operating_system\n",
    "    FROM `bigquery-public-data.ga4_obfuscated_sample_ecommerce.events_20210131`,\n",
    "        UNNEST(event_params) AS events\n",
    "    WHERE events.key = 'ga_session_id'\"\"\""
   ]
  },
  {
   "cell_type": "code",
   "execution_count": 5,
   "id": "84dabfb4",
   "metadata": {},
   "outputs": [],
   "source": [
    "geo_sql = \"\"\"SELECT DISTINCT user_pseudo_id,\n",
    "        events.value.int_value AS session,\n",
    "        geo.continent,\n",
    "        geo.country,\n",
    "        geo.region,\n",
    "        geo.city\n",
    "    FROM `bigquery-public-data.ga4_obfuscated_sample_ecommerce.events_20210129`,\n",
    "        UNNEST(event_params) AS events\n",
    "    WHERE events.key = 'ga_session_id'\n",
    "    UNION ALL\n",
    "    SELECT DISTINCT user_pseudo_id,\n",
    "        events.value.int_value AS session,\n",
    "        geo.continent,\n",
    "        geo.country,\n",
    "        geo.region,\n",
    "        geo.city\n",
    "    FROM `bigquery-public-data.ga4_obfuscated_sample_ecommerce.events_20210130`,\n",
    "        UNNEST(event_params) AS events\n",
    "    WHERE events.key = 'ga_session_id'\n",
    "    UNION ALL\n",
    "    SELECT DISTINCT user_pseudo_id,\n",
    "        events.value.int_value AS session,\n",
    "        geo.continent,\n",
    "        geo.country,\n",
    "        geo.region,\n",
    "        geo.city\n",
    "    FROM `bigquery-public-data.ga4_obfuscated_sample_ecommerce.events_20210131`,\n",
    "        UNNEST(event_params) AS events\n",
    "    WHERE events.key = 'ga_session_id'\"\"\""
   ]
  },
  {
   "cell_type": "code",
   "execution_count": 6,
   "id": "91d402d9",
   "metadata": {},
   "outputs": [],
   "source": [
    "device_query = client.query(device_sql).to_dataframe()\n",
    "geo_query = client.query(geo_sql).to_dataframe()"
   ]
  },
  {
   "cell_type": "markdown",
   "id": "d8b75936",
   "metadata": {},
   "source": [
    "#### Code to workshop clustering"
   ]
  },
  {
   "cell_type": "code",
   "execution_count": 81,
   "id": "911ee1d2",
   "metadata": {},
   "outputs": [],
   "source": [
    "clustering_df = event_results.loc[:, ['user_pseudo_id', 'first_event_date']]\\\n",
    "    .merge(geo_query.loc[:, ['user_pseudo_id', 'continent', 'country']],\n",
    "           how='left',\n",
    "           on='user_pseudo_id')\\\n",
    "    .merge(device_query.loc[:, ['user_pseudo_id', 'category']],\n",
    "           how='left',\n",
    "           on='user_pseudo_id').drop_duplicates()\n",
    "\n",
    "# Getting the time cohort\n",
    "clustering_df['first_event_date'] = pd.to_datetime(clustering_df['first_event_date'])\n",
    "min_date = clustering_df.first_event_date.min()\n",
    "clustering_df['week_start'] = clustering_df.first_event_date.apply(lambda x: ((x - min_date).days // 7) + 1)\n",
    "\n",
    "# Remapping countries to turn into numeric columns\n",
    "country_counts = clustering_df['country'].value_counts() / clustering_df['country'].count()\n",
    "clustering_df['country_map'] = clustering_df['country'].apply(lambda x: x if country_counts[x] > 0.05 else 'Other')\n",
    "\n",
    "# Setting up the clust df to get dummies\n",
    "clust_df = clustering_df.loc[:, ['user_pseudo_id', \n",
    "                                 'continent',\n",
    "                                 'country_map',\n",
    "                                 'category',\n",
    "                                 'week_start']]\\\n",
    "                                 .set_index('user_pseudo_id')"
   ]
  },
  {
   "cell_type": "code",
   "execution_count": 83,
   "id": "a4057d64",
   "metadata": {},
   "outputs": [],
   "source": [
    "prepped_cluster_df = pd.get_dummies(clust_df, columns = ['continent', 'country_map', 'category', 'week_start'], dtype=int)"
   ]
  },
  {
   "cell_type": "code",
   "execution_count": 120,
   "id": "976fbc80",
   "metadata": {},
   "outputs": [],
   "source": [
    "inertias = []\n",
    "\n",
    "for i in range(2, 11):\n",
    " k_means = KMeans(n_clusters=i)\n",
    " k_means.fit(prepped_cluster_df)\n",
    " inertias.append(k_means.inertia_)"
   ]
  },
  {
   "cell_type": "code",
   "execution_count": 121,
   "id": "84433f83",
   "metadata": {},
   "outputs": [
    {
     "data": {
      "image/png": "[encoded data removed]",
      "text/plain": [
       "<Figure size 640x480 with 1 Axes>"
      ]
     },
     "metadata": {},
     "output_type": "display_data"
    }
   ],
   "source": [
    "plt.plot([i for i in range(2, 11)],\n",
    "         inertias)\n",
    "plt.show()"
   ]
  },
  {
   "cell_type": "markdown",
   "id": "d003f138",
   "metadata": {},
   "source": [
    "You have to squint, but 10 clusters is approximately an elbow"
   ]
  },
  {
   "cell_type": "code",
   "execution_count": 123,
   "id": "c700d38d",
   "metadata": {},
   "outputs": [],
   "source": [
    "means = prepped_cluster_df.mean()\n",
    "\n",
    "centroid_df = pd.DataFrame(k_means.cluster_centers_, columns = prepped_cluster_df.columns)\n",
    "cluster_diff_df = centroid_df.apply(lambda x: x - means, axis = 1)\n",
    "cluster_diff_df['center'] = [i for i in range(0, 10)]\n",
    "heatmap_df = cluster_diff_df.melt(id_vars='center')"
   ]
  },
  {
   "cell_type": "code",
   "execution_count": 128,
   "id": "cda4a529",
   "metadata": {},
   "outputs": [
    {
     "name": "stdout",
     "output_type": "stream",
     "text": [
      "<class 'pandas.core.frame.DataFrame'>\n",
      "RangeIndex: 140 entries, 0 to 139\n",
      "Data columns (total 3 columns):\n",
      " #   Column    Non-Null Count  Dtype  \n",
      "---  ------    --------------  -----  \n",
      " 0   center    140 non-null    int64  \n",
      " 1   variable  140 non-null    object \n",
      " 2   value     140 non-null    float64\n",
      "dtypes: float64(1), int64(1), object(1)\n",
      "memory usage: 3.4+ KB\n"
     ]
    }
   ],
   "source": [
    "heatmap_df.info()"
   ]
  },
  {
   "cell_type": "code",
   "execution_count": 126,
   "id": "65ea8e79",
   "metadata": {},
   "outputs": [
    {
     "data": {
      "text/plain": [
       "<Axes: xlabel='center'>"
      ]
     },
     "execution_count": 126,
     "metadata": {},
     "output_type": "execute_result"
    },
    {
     "data": {
      "image/png": "[encoded data removed]",
      "text/plain": [
       "<Figure size 640x480 with 2 Axes>"
      ]
     },
     "metadata": {},
     "output_type": "display_data"
    }
   ],
   "source": [
    "sns.heatmap(cluster_diff_df.set_index('center').T,\n",
    "            cmap = 'coolwarm')"
   ]
  },
  {
   "cell_type": "code",
   "execution_count": null,
   "id": "9a1fff37",
   "metadata": {},
   "outputs": [],
   "source": []
  }
 ],
 "metadata": {
  "kernelspec": {
   "display_name": ".venv (3.13.7)",
   "language": "python",
   "name": "python3"
  },
  "language_info": {
   "codemirror_mode": {
    "name": "ipython",
    "version": 3
   },
   "file_extension": ".py",
   "mimetype": "text/x-python",
   "name": "python",
   "nbconvert_exporter": "python",
   "pygments_lexer": "ipython3",
   "version": "3.13.7"
  }
 },
 "nbformat": 4,
 "nbformat_minor": 5
}
