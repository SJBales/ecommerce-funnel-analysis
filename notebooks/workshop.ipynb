{
 "cells": [
  {
   "cell_type": "code",
   "execution_count": 6,
   "id": "827735cc",
   "metadata": {},
   "outputs": [],
   "source": [
    "from google.cloud import bigquery\n",
    "import pandas as pd\n",
    "import seaborn as sns\n",
    "import matplotlib.pyplot as plt"
   ]
  },
  {
   "cell_type": "code",
   "execution_count": 2,
   "id": "80a68c9d",
   "metadata": {},
   "outputs": [],
   "source": [
    "client = bigquery.Client(project='product-analytics-portfolio')"
   ]
  },
  {
   "cell_type": "markdown",
   "id": "03e5701d",
   "metadata": {},
   "source": [
    "#### Prepping for the initial data pipeline"
   ]
  },
  {
   "cell_type": "markdown",
   "id": "6cd8b478",
   "metadata": {},
   "source": [
    "Writing a query to determine if a user EVER converted, regardless of date or session"
   ]
  },
  {
   "cell_type": "code",
   "execution_count": 4,
   "id": "fa91d422",
   "metadata": {},
   "outputs": [
    {
     "name": "stderr",
     "output_type": "stream",
     "text": [
      "/Users/samueljoseph/Documents/Programming/ecommerce-funnel-analysis/.venv/lib/python3.13/site-packages/google/cloud/bigquery/table.py:1994: UserWarning: BigQuery Storage module not found, fetch data with the REST endpoint instead.\n",
      "  warnings.warn(\n"
     ]
    }
   ],
   "source": [
    "event_query = \"\"\"WITH stacked_table AS (SELECT event_date,\n",
    "       event_timestamp,\n",
    "       user_pseudo_id,\n",
    "       event_name\n",
    "FROM `bigquery-public-data.ga4_obfuscated_sample_ecommerce.events_20210130`\n",
    "WHERE event_name IN ('page_view', 'add_to_cart', 'begin_checkout', 'purchase')\n",
    "UNION ALL\n",
    "SELECT event_date,\n",
    "       event_timestamp,\n",
    "       user_pseudo_id,\n",
    "       event_name\n",
    "FROM `bigquery-public-data.ga4_obfuscated_sample_ecommerce.events_20210131`\n",
    "WHERE event_name IN ('page_view', 'add_to_cart', 'begin_checkout', 'purchase')),\n",
    "\n",
    "flagged_events AS (SELECT *,\n",
    "       CASE WHEN event_name = 'page_view' THEN 1 ELSE 0 END AS page_view,\n",
    "       CASE WHEN event_name = 'add_to_cart' THEN 1 ELSE 0 END AS add_to_cart,\n",
    "       CASE WHEN event_name = 'begin_checkout' THEN 1 ELSE 0 END as begin_checkout,\n",
    "       CASE WHEN event_name = 'purchase' THEN 1 ELSE 0 END as purchase\n",
    "FROM stacked_table)\n",
    "\n",
    "SELECT user_pseudo_id,\n",
    "       MIN(event_date) AS first_event_date,\n",
    "       MIN(event_timestamp) AS first_event_timestamp,\n",
    "       CASE WHEN SUM(page_view) > 0 THEN 1 ELSE 0 END viewed_page,\n",
    "       CASE WHEN SUM(add_to_cart) > 0 THEN 1 ELSE 0 END added_to_cart,\n",
    "       CASE WHEN SUM(begin_checkout) > 0 THEN 1 ELSE 0 END began_checkout,\n",
    "       CASE WHEN SUM(purchase) > 0 THEN 1 ELSE 0 END purchased\n",
    "FROM flagged_events\n",
    "GROUP BY user_pseudo_id;\"\"\"\n",
    "event_results = client.query(event_query).to_dataframe()"
   ]
  },
  {
   "cell_type": "code",
   "execution_count": 11,
   "id": "39e29442",
   "metadata": {},
   "outputs": [],
   "source": [
    "long_events = event_results.copy().melt(id_vars = ['user_pseudo_id', 'first_event_date', 'first_event_timestamp'])\\\n",
    ".rename(columns = {'variable': 'event', 'value': 'occurence'})"
   ]
  },
  {
   "cell_type": "code",
   "execution_count": 17,
   "id": "3d0b1b45",
   "metadata": {},
   "outputs": [
    {
     "data": {
      "image/png": "[encoded data removed]",
      "text/plain": [
       "<Figure size 640x480 with 1 Axes>"
      ]
     },
     "metadata": {},
     "output_type": "display_data"
    }
   ],
   "source": [
    "sns.barplot(x = 'event',\n",
    "            y = 'occurence',\n",
    "            data = long_events[long_events['event'] != 'viewed_page'])\n",
    "plt.title('Event Conversion Rates')\n",
    "plt.ylabel('Conversion Rate')\n",
    "plt.xlabel('Event')\n",
    "plt.show()"
   ]
  },
  {
   "cell_type": "markdown",
   "id": "aba05447",
   "metadata": {},
   "source": [
    "Writing a query to determine intra-session conversion"
   ]
  },
  {
   "cell_type": "code",
   "execution_count": null,
   "id": "69b5b349",
   "metadata": {},
   "outputs": [],
   "source": [
    "session_sql = \"\"\"-- CTE to stack relevant columns from two date tables\n",
    "-- Needs to be compressed to query across all tables with a wildcard for production\n",
    "WITH stacked_table AS (SELECT DISTINCT user_pseudo_id,\n",
    "      event_date,\n",
    "      event_timestamp, \n",
    "      events.value.int_value AS session,\n",
    "      event_name\n",
    "FROM `bigquery-public-data.ga4_obfuscated_sample_ecommerce.events_20210130`,\n",
    "     UNNEST(event_params) AS events\n",
    "WHERE event_name IN ('page_view', 'add_to_cart', 'begin_checkout', 'purchase') AND\n",
    "      events.key = 'ga_session_id'\n",
    "UNION ALL\n",
    "SELECT DISTINCT user_pseudo_id,\n",
    "      event_date,\n",
    "      event_timestamp, \n",
    "      events.value.int_value AS session,\n",
    "      event_name\n",
    "FROM `bigquery-public-data.ga4_obfuscated_sample_ecommerce.events_20210130`,\n",
    "     UNNEST(event_params) AS events\n",
    "WHERE event_name IN ('page_view', 'add_to_cart', 'begin_checkout', 'purchase') AND\n",
    "      events.key = 'ga_session_id'),\n",
    "\n",
    "-- CTE to create flagged events by user and session\n",
    "flagged_events AS (SELECT *,\n",
    "       CASE WHEN event_name = 'page_view' THEN 1 ELSE 0 END AS page_view,\n",
    "       CASE WHEN event_name = 'add_to_cart' THEN 1 ELSE 0 END AS add_to_cart,\n",
    "       CASE WHEN event_name = 'begin_checkout' THEN 1 ELSE 0 END as begin_checkout,\n",
    "       CASE WHEN event_name = 'purchase' THEN 1 ELSE 0 END as purchase\n",
    "FROM stacked_table)\n",
    "\n",
    "-- Getting aggregated values by session and user\n",
    "SELECT user_pseudo_id,\n",
    "       session,\n",
    "       MIN(event_date) AS first_event_date,\n",
    "       MIN(event_timestamp) AS first_event_timestamp,\n",
    "       CASE WHEN SUM(page_view) > 0 THEN 1 ELSE 0 END viewed_page,\n",
    "       CASE WHEN SUM(add_to_cart) > 0 THEN 1 ELSE 0 END added_to_cart,\n",
    "       CASE WHEN SUM(begin_checkout) > 0 THEN 1 ELSE 0 END began_checkout,\n",
    "       CASE WHEN SUM(purchase) > 0 THEN 1 ELSE 0 END purchased\n",
    "FROM flagged_events\n",
    "GROUP BY user_pseudo_id, session;\"\"\""
   ]
  },
  {
   "cell_type": "markdown",
   "id": "c7978c07",
   "metadata": {},
   "source": [
    "#### Segmentation Queries"
   ]
  },
  {
   "cell_type": "markdown",
   "id": "b98fb9c1",
   "metadata": {},
   "source": [
    "Query for device information"
   ]
  },
  {
   "cell_type": "code",
   "execution_count": null,
   "id": "17185ab5",
   "metadata": {},
   "outputs": [],
   "source": [
    "device_sql = \"\"\"SELECT DISTINCT user_pseudo_id,\n",
    "       events.value.int_value AS session,\n",
    "       device.category,\n",
    "       device.mobile_brand_name,\n",
    "       device.operating_system\n",
    "FROM `bigquery-public-data.ga4_obfuscated_sample_ecommerce.events_20210131`,\n",
    "     UNNEST(event_params) AS events\n",
    "WHERE events.key = 'ga_session_id'\"\"\""
   ]
  },
  {
   "cell_type": "code",
   "execution_count": null,
   "id": "84dabfb4",
   "metadata": {},
   "outputs": [],
   "source": [
    "geo_sql = \"\"\"SELECT DISTINCT user_pseudo_id,\n",
    "       events.value.int_value AS session,\n",
    "       geo.continent,\n",
    "       geo.country,\n",
    "       geo.region,\n",
    "       geo.city\n",
    "FROM `bigquery-public-data.ga4_obfuscated_sample_ecommerce.events_20210131`,\n",
    "     UNNEST(event_params) AS events\n",
    "WHERE events.key = 'ga_session_id'\"\"\""
   ]
  }
 ],
 "metadata": {
  "kernelspec": {
   "display_name": ".venv (3.13.7)",
   "language": "python",
   "name": "python3"
  },
  "language_info": {
   "codemirror_mode": {
    "name": "ipython",
    "version": 3
   },
   "file_extension": ".py",
   "mimetype": "text/x-python",
   "name": "python",
   "nbconvert_exporter": "python",
   "pygments_lexer": "ipython3",
   "version": "3.13.7"
  }
 },
 "nbformat": 4,
 "nbformat_minor": 5
}
