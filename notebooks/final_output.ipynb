{
 "cells": [
  {
   "cell_type": "code",
   "execution_count": null,
   "id": "4e921318",
   "metadata": {},
   "outputs": [],
   "source": [
    "from src.data_processor import ecommerceProcessor\n",
    "from src.visualization_engine import ecommerceViz\n",
    "from src.segmentation import customerSegmentation"
   ]
  },
  {
   "cell_type": "code",
   "execution_count": null,
   "id": "24f67078",
   "metadata": {},
   "outputs": [],
   "source": [
    "processor = ecommerceProcessor()\n",
    "processor.run_queries(test_=True)\n",
    "processor.prep_events()\n",
    "processor.prep_session()\n",
    "processor.prep_agg_conversion()"
   ]
  },
  {
   "cell_type": "markdown",
   "id": "5334b9db",
   "metadata": {},
   "source": [
    "# Conversion Rates Across Key Events"
   ]
  },
  {
   "cell_type": "markdown",
   "id": "25c8597c",
   "metadata": {},
   "source": [
    "Key Observations:\n",
    "- A really small fraction (~5%) of customers convert from viewing the page to adding items to cart\n",
    "- The most dramatic drop in conversion happens from beginning checkout to completing a purchase (over 50% reduction in the conversion rate). This is extremely high, and I suggest examining the checkout process. Possible causes:\n",
    "    - There may be too many steps in the process and customers get frustrated and give up\n",
    "    - There may be a bug with required information, etc. that make users second guess the purchase\n",
    "    - There could be nothing wrong with the interface, but unexpected charges are being applied (i.e. shipping, cannot use code, cannot apply a sale) that is turning customers away"
   ]
  },
  {
   "cell_type": "code",
   "execution_count": null,
   "id": "66410244",
   "metadata": {},
   "outputs": [],
   "source": [
    "visualizer = ecommerceViz(processor)\n",
    "visualizer.plot_conversion_rate()"
   ]
  },
  {
   "cell_type": "code",
   "execution_count": null,
   "id": "fc3ff80c",
   "metadata": {},
   "outputs": [],
   "source": [
    "visualizer.plot_conversion_rate(remove_pageview=True)"
   ]
  },
  {
   "cell_type": "markdown",
   "id": "6f184bd1",
   "metadata": {},
   "source": [
    "# Conversion Rates over Time"
   ]
  },
  {
   "cell_type": "markdown",
   "id": "4d10f513",
   "metadata": {},
   "source": [
    "Observations:\n",
    "- Traffic was growing throughout November and December, likely ahead of the Christmas holiday in the US and other countries\n",
    "- A large spike came mid-December. Was there a sales campaign at that time? \n",
    "    - While total purchaes seemed to increase, it appears there was a drop in conversion rates\n",
    "    - It's possible these new visitors were net-new to the site, but may have struggled with navigation or the checkout process (or were only enticed by the sales offerings, not necessarily interest in the products)\n",
    "    - This warrants further exploration with the sales and marketing team along with product\n",
    "- There is very clear weekly seasonality, with Sundays appearing to be the strongest sales day"
   ]
  },
  {
   "cell_type": "code",
   "execution_count": null,
   "id": "053420ca",
   "metadata": {},
   "outputs": [],
   "source": [
    "visualizer.plot_conversion_rates_over_time(remove_pageview=True)"
   ]
  },
  {
   "cell_type": "markdown",
   "id": "7a085276",
   "metadata": {},
   "source": [
    "# Trends in Aggregate Events"
   ]
  },
  {
   "cell_type": "markdown",
   "id": "5b0437df",
   "metadata": {},
   "source": [
    "There is an anomaly in the first few weeks of the collection period where there are fewer adds to cart than purchases. This is impossible and needs to be investigated."
   ]
  },
  {
   "cell_type": "code",
   "execution_count": null,
   "id": "bdce314c",
   "metadata": {},
   "outputs": [],
   "source": [
    "visualizer.plot_conversion_events_over_time()"
   ]
  },
  {
   "cell_type": "code",
   "execution_count": null,
   "id": "619f7739",
   "metadata": {},
   "outputs": [],
   "source": [
    "visualizer.plot_conversion_events_over_time(remove_pageview=True)"
   ]
  },
  {
   "cell_type": "markdown",
   "id": "bd24ee2f",
   "metadata": {},
   "source": [
    "# Segmentation"
   ]
  },
  {
   "cell_type": "code",
   "execution_count": null,
   "id": "362a4fc9",
   "metadata": {},
   "outputs": [],
   "source": [
    "segmenter = customerSegmentation(processor)\n",
    "\n",
    "segmenter.prep_segment_data()\n",
    "segmenter.prep_clustering_data()\n",
    "segmenter.create_kmeans(centers=5)\n",
    "segmenter.add_customer_segments()"
   ]
  },
  {
   "cell_type": "code",
   "execution_count": null,
   "id": "70224b23",
   "metadata": {},
   "outputs": [],
   "source": [
    "visualizer.plot_conversion_rate(plot_segments=True)"
   ]
  },
  {
   "cell_type": "code",
   "execution_count": null,
   "id": "f88971aa",
   "metadata": {},
   "outputs": [],
   "source": []
  }
 ],
 "metadata": {
  "kernelspec": {
   "display_name": ".venv (3.13.7)",
   "language": "python",
   "name": "python3"
  },
  "language_info": {
   "codemirror_mode": {
    "name": "ipython",
    "version": 3
   },
   "file_extension": ".py",
   "mimetype": "text/x-python",
   "name": "python",
   "nbconvert_exporter": "python",
   "pygments_lexer": "ipython3",
   "version": "3.13.7"
  }
 },
 "nbformat": 4,
 "nbformat_minor": 5
}
